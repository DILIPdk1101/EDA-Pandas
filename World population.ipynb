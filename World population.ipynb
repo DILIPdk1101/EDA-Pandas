{
 "cells": [
  {
   "cell_type": "markdown",
   "id": "7a26e902-cea4-428a-8500-12f7b8021bc1",
   "metadata": {},
   "source": [
    "# World Population Analysis\n",
    "This Project contains  EDA process  and Visualization  report for analyzing a world population dataset to understand the global population distribution and growth trends."
   ]
  },
  {
   "cell_type": "code",
   "execution_count": 39,
   "id": "bd7a881d-95cf-48f5-8910-3f531b8d7f16",
   "metadata": {},
   "outputs": [],
   "source": [
    "#loading required library\n",
    "import pandas as pd\n",
    "import seaborn as sns\n",
    "import matplotlib.pyplot as plt\n",
    "import plotly.express as px"
   ]
  },
  {
   "cell_type": "code",
   "execution_count": 40,
   "id": "986161d2-d3ce-42dc-9434-74cf697ade9d",
   "metadata": {},
   "outputs": [
    {
     "data": {
      "text/html": [
       "<div>\n",
       "<style scoped>\n",
       "    .dataframe tbody tr th:only-of-type {\n",
       "        vertical-align: middle;\n",
       "    }\n",
       "\n",
       "    .dataframe tbody tr th {\n",
       "        vertical-align: top;\n",
       "    }\n",
       "\n",
       "    .dataframe thead th {\n",
       "        text-align: right;\n",
       "    }\n",
       "</style>\n",
       "<table border=\"1\" class=\"dataframe\">\n",
       "  <thead>\n",
       "    <tr style=\"text-align: right;\">\n",
       "      <th></th>\n",
       "      <th>Rank</th>\n",
       "      <th>CCA3</th>\n",
       "      <th>Country</th>\n",
       "      <th>Capital</th>\n",
       "      <th>Continent</th>\n",
       "      <th>2022 Population</th>\n",
       "      <th>2020 Population</th>\n",
       "      <th>2015 Population</th>\n",
       "      <th>2010 Population</th>\n",
       "      <th>2000 Population</th>\n",
       "      <th>1990 Population</th>\n",
       "      <th>1980 Population</th>\n",
       "      <th>1970 Population</th>\n",
       "      <th>Area (km²)</th>\n",
       "      <th>Density (per km²)</th>\n",
       "      <th>Growth Rate</th>\n",
       "      <th>World Population Percentage</th>\n",
       "    </tr>\n",
       "  </thead>\n",
       "  <tbody>\n",
       "    <tr>\n",
       "      <th>0</th>\n",
       "      <td>36</td>\n",
       "      <td>AFG</td>\n",
       "      <td>Afghanistan</td>\n",
       "      <td>Kabul</td>\n",
       "      <td>Asia</td>\n",
       "      <td>41128771.00</td>\n",
       "      <td>38972230.00</td>\n",
       "      <td>33753499.00</td>\n",
       "      <td>28189672.00</td>\n",
       "      <td>19542982.00</td>\n",
       "      <td>10694796.00</td>\n",
       "      <td>12486631.00</td>\n",
       "      <td>10752971.00</td>\n",
       "      <td>652230.00</td>\n",
       "      <td>63.06</td>\n",
       "      <td>1.03</td>\n",
       "      <td>0.52</td>\n",
       "    </tr>\n",
       "    <tr>\n",
       "      <th>1</th>\n",
       "      <td>138</td>\n",
       "      <td>ALB</td>\n",
       "      <td>Albania</td>\n",
       "      <td>Tirana</td>\n",
       "      <td>Europe</td>\n",
       "      <td>2842321.00</td>\n",
       "      <td>2866849.00</td>\n",
       "      <td>2882481.00</td>\n",
       "      <td>2913399.00</td>\n",
       "      <td>3182021.00</td>\n",
       "      <td>3295066.00</td>\n",
       "      <td>2941651.00</td>\n",
       "      <td>2324731.00</td>\n",
       "      <td>28748.00</td>\n",
       "      <td>98.87</td>\n",
       "      <td>1.00</td>\n",
       "      <td>0.04</td>\n",
       "    </tr>\n",
       "    <tr>\n",
       "      <th>2</th>\n",
       "      <td>34</td>\n",
       "      <td>DZA</td>\n",
       "      <td>Algeria</td>\n",
       "      <td>Algiers</td>\n",
       "      <td>Africa</td>\n",
       "      <td>44903225.00</td>\n",
       "      <td>43451666.00</td>\n",
       "      <td>39543154.00</td>\n",
       "      <td>35856344.00</td>\n",
       "      <td>30774621.00</td>\n",
       "      <td>25518074.00</td>\n",
       "      <td>18739378.00</td>\n",
       "      <td>13795915.00</td>\n",
       "      <td>2381741.00</td>\n",
       "      <td>18.85</td>\n",
       "      <td>1.02</td>\n",
       "      <td>0.56</td>\n",
       "    </tr>\n",
       "    <tr>\n",
       "      <th>3</th>\n",
       "      <td>213</td>\n",
       "      <td>ASM</td>\n",
       "      <td>American Samoa</td>\n",
       "      <td>Pago Pago</td>\n",
       "      <td>Oceania</td>\n",
       "      <td>44273.00</td>\n",
       "      <td>46189.00</td>\n",
       "      <td>51368.00</td>\n",
       "      <td>54849.00</td>\n",
       "      <td>58230.00</td>\n",
       "      <td>47818.00</td>\n",
       "      <td>32886.00</td>\n",
       "      <td>27075.00</td>\n",
       "      <td>199.00</td>\n",
       "      <td>222.48</td>\n",
       "      <td>0.98</td>\n",
       "      <td>0.00</td>\n",
       "    </tr>\n",
       "    <tr>\n",
       "      <th>4</th>\n",
       "      <td>203</td>\n",
       "      <td>AND</td>\n",
       "      <td>Andorra</td>\n",
       "      <td>Andorra la Vella</td>\n",
       "      <td>Europe</td>\n",
       "      <td>79824.00</td>\n",
       "      <td>77700.00</td>\n",
       "      <td>71746.00</td>\n",
       "      <td>71519.00</td>\n",
       "      <td>66097.00</td>\n",
       "      <td>53569.00</td>\n",
       "      <td>35611.00</td>\n",
       "      <td>19860.00</td>\n",
       "      <td>468.00</td>\n",
       "      <td>170.56</td>\n",
       "      <td>1.01</td>\n",
       "      <td>0.00</td>\n",
       "    </tr>\n",
       "    <tr>\n",
       "      <th>5</th>\n",
       "      <td>42</td>\n",
       "      <td>AGO</td>\n",
       "      <td>Angola</td>\n",
       "      <td>Luanda</td>\n",
       "      <td>Africa</td>\n",
       "      <td>35588987.00</td>\n",
       "      <td>33428485.00</td>\n",
       "      <td>28127721.00</td>\n",
       "      <td>23364185.00</td>\n",
       "      <td>16394062.00</td>\n",
       "      <td>11828638.00</td>\n",
       "      <td>8330047.00</td>\n",
       "      <td>6029700.00</td>\n",
       "      <td>1246700.00</td>\n",
       "      <td>28.55</td>\n",
       "      <td>1.03</td>\n",
       "      <td>0.45</td>\n",
       "    </tr>\n",
       "    <tr>\n",
       "      <th>6</th>\n",
       "      <td>224</td>\n",
       "      <td>AIA</td>\n",
       "      <td>Anguilla</td>\n",
       "      <td>The Valley</td>\n",
       "      <td>North America</td>\n",
       "      <td>15857.00</td>\n",
       "      <td>15585.00</td>\n",
       "      <td>14525.00</td>\n",
       "      <td>13172.00</td>\n",
       "      <td>11047.00</td>\n",
       "      <td>8316.00</td>\n",
       "      <td>6560.00</td>\n",
       "      <td>6283.00</td>\n",
       "      <td>91.00</td>\n",
       "      <td>174.25</td>\n",
       "      <td>1.01</td>\n",
       "      <td>0.00</td>\n",
       "    </tr>\n",
       "    <tr>\n",
       "      <th>7</th>\n",
       "      <td>201</td>\n",
       "      <td>ATG</td>\n",
       "      <td>Antigua and Barbuda</td>\n",
       "      <td>Saint John’s</td>\n",
       "      <td>North America</td>\n",
       "      <td>93763.00</td>\n",
       "      <td>92664.00</td>\n",
       "      <td>89941.00</td>\n",
       "      <td>85695.00</td>\n",
       "      <td>75055.00</td>\n",
       "      <td>63328.00</td>\n",
       "      <td>64888.00</td>\n",
       "      <td>64516.00</td>\n",
       "      <td>442.00</td>\n",
       "      <td>212.13</td>\n",
       "      <td>1.01</td>\n",
       "      <td>0.00</td>\n",
       "    </tr>\n",
       "    <tr>\n",
       "      <th>8</th>\n",
       "      <td>33</td>\n",
       "      <td>ARG</td>\n",
       "      <td>Argentina</td>\n",
       "      <td>Buenos Aires</td>\n",
       "      <td>South America</td>\n",
       "      <td>45510318.00</td>\n",
       "      <td>45036032.00</td>\n",
       "      <td>43257065.00</td>\n",
       "      <td>41100123.00</td>\n",
       "      <td>37070774.00</td>\n",
       "      <td>32637657.00</td>\n",
       "      <td>28024803.00</td>\n",
       "      <td>23842803.00</td>\n",
       "      <td>2780400.00</td>\n",
       "      <td>16.37</td>\n",
       "      <td>1.01</td>\n",
       "      <td>0.57</td>\n",
       "    </tr>\n",
       "    <tr>\n",
       "      <th>9</th>\n",
       "      <td>140</td>\n",
       "      <td>ARM</td>\n",
       "      <td>Armenia</td>\n",
       "      <td>Yerevan</td>\n",
       "      <td>Asia</td>\n",
       "      <td>2780469.00</td>\n",
       "      <td>2805608.00</td>\n",
       "      <td>2878595.00</td>\n",
       "      <td>2946293.00</td>\n",
       "      <td>3168523.00</td>\n",
       "      <td>3556539.00</td>\n",
       "      <td>3135123.00</td>\n",
       "      <td>2534377.00</td>\n",
       "      <td>29743.00</td>\n",
       "      <td>93.48</td>\n",
       "      <td>1.00</td>\n",
       "      <td>0.03</td>\n",
       "    </tr>\n",
       "  </tbody>\n",
       "</table>\n",
       "</div>"
      ],
      "text/plain": [
       "   Rank CCA3              Country           Capital      Continent  \\\n",
       "0    36  AFG          Afghanistan             Kabul           Asia   \n",
       "1   138  ALB              Albania            Tirana         Europe   \n",
       "2    34  DZA              Algeria           Algiers         Africa   \n",
       "3   213  ASM       American Samoa         Pago Pago        Oceania   \n",
       "4   203  AND              Andorra  Andorra la Vella         Europe   \n",
       "5    42  AGO               Angola            Luanda         Africa   \n",
       "6   224  AIA             Anguilla        The Valley  North America   \n",
       "7   201  ATG  Antigua and Barbuda      Saint John’s  North America   \n",
       "8    33  ARG            Argentina      Buenos Aires  South America   \n",
       "9   140  ARM              Armenia           Yerevan           Asia   \n",
       "\n",
       "   2022 Population  2020 Population  2015 Population  2010 Population  \\\n",
       "0      41128771.00      38972230.00      33753499.00      28189672.00   \n",
       "1       2842321.00       2866849.00       2882481.00       2913399.00   \n",
       "2      44903225.00      43451666.00      39543154.00      35856344.00   \n",
       "3         44273.00         46189.00         51368.00         54849.00   \n",
       "4         79824.00         77700.00         71746.00         71519.00   \n",
       "5      35588987.00      33428485.00      28127721.00      23364185.00   \n",
       "6         15857.00         15585.00         14525.00         13172.00   \n",
       "7         93763.00         92664.00         89941.00         85695.00   \n",
       "8      45510318.00      45036032.00      43257065.00      41100123.00   \n",
       "9       2780469.00       2805608.00       2878595.00       2946293.00   \n",
       "\n",
       "   2000 Population  1990 Population  1980 Population  1970 Population  \\\n",
       "0      19542982.00      10694796.00      12486631.00      10752971.00   \n",
       "1       3182021.00       3295066.00       2941651.00       2324731.00   \n",
       "2      30774621.00      25518074.00      18739378.00      13795915.00   \n",
       "3         58230.00         47818.00         32886.00         27075.00   \n",
       "4         66097.00         53569.00         35611.00         19860.00   \n",
       "5      16394062.00      11828638.00       8330047.00       6029700.00   \n",
       "6         11047.00          8316.00          6560.00          6283.00   \n",
       "7         75055.00         63328.00         64888.00         64516.00   \n",
       "8      37070774.00      32637657.00      28024803.00      23842803.00   \n",
       "9       3168523.00       3556539.00       3135123.00       2534377.00   \n",
       "\n",
       "   Area (km²)  Density (per km²)  Growth Rate  World Population Percentage  \n",
       "0   652230.00              63.06         1.03                         0.52  \n",
       "1    28748.00              98.87         1.00                         0.04  \n",
       "2  2381741.00              18.85         1.02                         0.56  \n",
       "3      199.00             222.48         0.98                         0.00  \n",
       "4      468.00             170.56         1.01                         0.00  \n",
       "5  1246700.00              28.55         1.03                         0.45  \n",
       "6       91.00             174.25         1.01                         0.00  \n",
       "7      442.00             212.13         1.01                         0.00  \n",
       "8  2780400.00              16.37         1.01                         0.57  \n",
       "9    29743.00              93.48         1.00                         0.03  "
      ]
     },
     "execution_count": 40,
     "metadata": {},
     "output_type": "execute_result"
    }
   ],
   "source": [
    "# Load the dataset\n",
    "df = pd.read_csv(\"world_population.csv\")\n",
    "\n",
    "# Display the first few rows of the dataset\n",
    "df.head(10)\n"
   ]
  },
  {
   "cell_type": "code",
   "execution_count": 41,
   "id": "ee9c4925-0e41-4baf-b138-d2561bdc0bef",
   "metadata": {},
   "outputs": [
    {
     "data": {
      "text/html": [
       "<div>\n",
       "<style scoped>\n",
       "    .dataframe tbody tr th:only-of-type {\n",
       "        vertical-align: middle;\n",
       "    }\n",
       "\n",
       "    .dataframe tbody tr th {\n",
       "        vertical-align: top;\n",
       "    }\n",
       "\n",
       "    .dataframe thead th {\n",
       "        text-align: right;\n",
       "    }\n",
       "</style>\n",
       "<table border=\"1\" class=\"dataframe\">\n",
       "  <thead>\n",
       "    <tr style=\"text-align: right;\">\n",
       "      <th></th>\n",
       "      <th>Rank</th>\n",
       "      <th>CCA3</th>\n",
       "      <th>Country</th>\n",
       "      <th>Capital</th>\n",
       "      <th>Continent</th>\n",
       "      <th>2022 Population</th>\n",
       "      <th>2020 Population</th>\n",
       "      <th>2015 Population</th>\n",
       "      <th>2010 Population</th>\n",
       "      <th>2000 Population</th>\n",
       "      <th>1990 Population</th>\n",
       "      <th>1980 Population</th>\n",
       "      <th>1970 Population</th>\n",
       "      <th>Area (km²)</th>\n",
       "      <th>Density (per km²)</th>\n",
       "      <th>Growth Rate</th>\n",
       "      <th>World Population Percentage</th>\n",
       "    </tr>\n",
       "  </thead>\n",
       "  <tbody>\n",
       "    <tr>\n",
       "      <th>0</th>\n",
       "      <td>36</td>\n",
       "      <td>AFG</td>\n",
       "      <td>Afghanistan</td>\n",
       "      <td>Kabul</td>\n",
       "      <td>Asia</td>\n",
       "      <td>41128771.00</td>\n",
       "      <td>38972230.00</td>\n",
       "      <td>33753499.00</td>\n",
       "      <td>28189672.00</td>\n",
       "      <td>19542982.00</td>\n",
       "      <td>10694796.00</td>\n",
       "      <td>12486631.00</td>\n",
       "      <td>10752971.00</td>\n",
       "      <td>652230.00</td>\n",
       "      <td>63.06</td>\n",
       "      <td>1.03</td>\n",
       "      <td>0.52</td>\n",
       "    </tr>\n",
       "    <tr>\n",
       "      <th>1</th>\n",
       "      <td>138</td>\n",
       "      <td>ALB</td>\n",
       "      <td>Albania</td>\n",
       "      <td>Tirana</td>\n",
       "      <td>Europe</td>\n",
       "      <td>2842321.00</td>\n",
       "      <td>2866849.00</td>\n",
       "      <td>2882481.00</td>\n",
       "      <td>2913399.00</td>\n",
       "      <td>3182021.00</td>\n",
       "      <td>3295066.00</td>\n",
       "      <td>2941651.00</td>\n",
       "      <td>2324731.00</td>\n",
       "      <td>28748.00</td>\n",
       "      <td>98.87</td>\n",
       "      <td>1.00</td>\n",
       "      <td>0.04</td>\n",
       "    </tr>\n",
       "    <tr>\n",
       "      <th>2</th>\n",
       "      <td>34</td>\n",
       "      <td>DZA</td>\n",
       "      <td>Algeria</td>\n",
       "      <td>Algiers</td>\n",
       "      <td>Africa</td>\n",
       "      <td>44903225.00</td>\n",
       "      <td>43451666.00</td>\n",
       "      <td>39543154.00</td>\n",
       "      <td>35856344.00</td>\n",
       "      <td>30774621.00</td>\n",
       "      <td>25518074.00</td>\n",
       "      <td>18739378.00</td>\n",
       "      <td>13795915.00</td>\n",
       "      <td>2381741.00</td>\n",
       "      <td>18.85</td>\n",
       "      <td>1.02</td>\n",
       "      <td>0.56</td>\n",
       "    </tr>\n",
       "    <tr>\n",
       "      <th>3</th>\n",
       "      <td>213</td>\n",
       "      <td>ASM</td>\n",
       "      <td>American Samoa</td>\n",
       "      <td>Pago Pago</td>\n",
       "      <td>Oceania</td>\n",
       "      <td>44273.00</td>\n",
       "      <td>46189.00</td>\n",
       "      <td>51368.00</td>\n",
       "      <td>54849.00</td>\n",
       "      <td>58230.00</td>\n",
       "      <td>47818.00</td>\n",
       "      <td>32886.00</td>\n",
       "      <td>27075.00</td>\n",
       "      <td>199.00</td>\n",
       "      <td>222.48</td>\n",
       "      <td>0.98</td>\n",
       "      <td>0.00</td>\n",
       "    </tr>\n",
       "    <tr>\n",
       "      <th>4</th>\n",
       "      <td>203</td>\n",
       "      <td>AND</td>\n",
       "      <td>Andorra</td>\n",
       "      <td>Andorra la Vella</td>\n",
       "      <td>Europe</td>\n",
       "      <td>79824.00</td>\n",
       "      <td>77700.00</td>\n",
       "      <td>71746.00</td>\n",
       "      <td>71519.00</td>\n",
       "      <td>66097.00</td>\n",
       "      <td>53569.00</td>\n",
       "      <td>35611.00</td>\n",
       "      <td>19860.00</td>\n",
       "      <td>468.00</td>\n",
       "      <td>170.56</td>\n",
       "      <td>1.01</td>\n",
       "      <td>0.00</td>\n",
       "    </tr>\n",
       "    <tr>\n",
       "      <th>...</th>\n",
       "      <td>...</td>\n",
       "      <td>...</td>\n",
       "      <td>...</td>\n",
       "      <td>...</td>\n",
       "      <td>...</td>\n",
       "      <td>...</td>\n",
       "      <td>...</td>\n",
       "      <td>...</td>\n",
       "      <td>...</td>\n",
       "      <td>...</td>\n",
       "      <td>...</td>\n",
       "      <td>...</td>\n",
       "      <td>...</td>\n",
       "      <td>...</td>\n",
       "      <td>...</td>\n",
       "      <td>...</td>\n",
       "      <td>...</td>\n",
       "    </tr>\n",
       "    <tr>\n",
       "      <th>229</th>\n",
       "      <td>226</td>\n",
       "      <td>WLF</td>\n",
       "      <td>Wallis and Futuna</td>\n",
       "      <td>Mata-Utu</td>\n",
       "      <td>Oceania</td>\n",
       "      <td>11572.00</td>\n",
       "      <td>11655.00</td>\n",
       "      <td>12182.00</td>\n",
       "      <td>13142.00</td>\n",
       "      <td>14723.00</td>\n",
       "      <td>13454.00</td>\n",
       "      <td>11315.00</td>\n",
       "      <td>9377.00</td>\n",
       "      <td>142.00</td>\n",
       "      <td>81.49</td>\n",
       "      <td>1.00</td>\n",
       "      <td>0.00</td>\n",
       "    </tr>\n",
       "    <tr>\n",
       "      <th>230</th>\n",
       "      <td>172</td>\n",
       "      <td>ESH</td>\n",
       "      <td>Western Sahara</td>\n",
       "      <td>El Aaiún</td>\n",
       "      <td>Africa</td>\n",
       "      <td>575986.00</td>\n",
       "      <td>556048.00</td>\n",
       "      <td>491824.00</td>\n",
       "      <td>413296.00</td>\n",
       "      <td>270375.00</td>\n",
       "      <td>178529.00</td>\n",
       "      <td>116775.00</td>\n",
       "      <td>76371.00</td>\n",
       "      <td>266000.00</td>\n",
       "      <td>2.17</td>\n",
       "      <td>1.02</td>\n",
       "      <td>0.01</td>\n",
       "    </tr>\n",
       "    <tr>\n",
       "      <th>231</th>\n",
       "      <td>46</td>\n",
       "      <td>YEM</td>\n",
       "      <td>Yemen</td>\n",
       "      <td>Sanaa</td>\n",
       "      <td>Asia</td>\n",
       "      <td>33696614.00</td>\n",
       "      <td>32284046.00</td>\n",
       "      <td>28516545.00</td>\n",
       "      <td>24743946.00</td>\n",
       "      <td>18628700.00</td>\n",
       "      <td>13375121.00</td>\n",
       "      <td>9204938.00</td>\n",
       "      <td>6843607.00</td>\n",
       "      <td>527968.00</td>\n",
       "      <td>63.82</td>\n",
       "      <td>1.02</td>\n",
       "      <td>0.42</td>\n",
       "    </tr>\n",
       "    <tr>\n",
       "      <th>232</th>\n",
       "      <td>63</td>\n",
       "      <td>ZMB</td>\n",
       "      <td>Zambia</td>\n",
       "      <td>Lusaka</td>\n",
       "      <td>Africa</td>\n",
       "      <td>20017675.00</td>\n",
       "      <td>18927715.00</td>\n",
       "      <td>NaN</td>\n",
       "      <td>13792086.00</td>\n",
       "      <td>9891136.00</td>\n",
       "      <td>7686401.00</td>\n",
       "      <td>5720438.00</td>\n",
       "      <td>4281671.00</td>\n",
       "      <td>752612.00</td>\n",
       "      <td>26.60</td>\n",
       "      <td>1.03</td>\n",
       "      <td>0.25</td>\n",
       "    </tr>\n",
       "    <tr>\n",
       "      <th>233</th>\n",
       "      <td>74</td>\n",
       "      <td>ZWE</td>\n",
       "      <td>Zimbabwe</td>\n",
       "      <td>Harare</td>\n",
       "      <td>Africa</td>\n",
       "      <td>16320537.00</td>\n",
       "      <td>15669666.00</td>\n",
       "      <td>14154937.00</td>\n",
       "      <td>12839771.00</td>\n",
       "      <td>11834676.00</td>\n",
       "      <td>10113893.00</td>\n",
       "      <td>7049926.00</td>\n",
       "      <td>5202918.00</td>\n",
       "      <td>390757.00</td>\n",
       "      <td>41.77</td>\n",
       "      <td>1.02</td>\n",
       "      <td>0.20</td>\n",
       "    </tr>\n",
       "  </tbody>\n",
       "</table>\n",
       "<p>234 rows × 17 columns</p>\n",
       "</div>"
      ],
      "text/plain": [
       "     Rank CCA3            Country           Capital Continent  \\\n",
       "0      36  AFG        Afghanistan             Kabul      Asia   \n",
       "1     138  ALB            Albania            Tirana    Europe   \n",
       "2      34  DZA            Algeria           Algiers    Africa   \n",
       "3     213  ASM     American Samoa         Pago Pago   Oceania   \n",
       "4     203  AND            Andorra  Andorra la Vella    Europe   \n",
       "..    ...  ...                ...               ...       ...   \n",
       "229   226  WLF  Wallis and Futuna          Mata-Utu   Oceania   \n",
       "230   172  ESH     Western Sahara          El Aaiún    Africa   \n",
       "231    46  YEM              Yemen             Sanaa      Asia   \n",
       "232    63  ZMB             Zambia            Lusaka    Africa   \n",
       "233    74  ZWE           Zimbabwe            Harare    Africa   \n",
       "\n",
       "     2022 Population  2020 Population  2015 Population  2010 Population  \\\n",
       "0        41128771.00      38972230.00      33753499.00      28189672.00   \n",
       "1         2842321.00       2866849.00       2882481.00       2913399.00   \n",
       "2        44903225.00      43451666.00      39543154.00      35856344.00   \n",
       "3           44273.00         46189.00         51368.00         54849.00   \n",
       "4           79824.00         77700.00         71746.00         71519.00   \n",
       "..               ...              ...              ...              ...   \n",
       "229         11572.00         11655.00         12182.00         13142.00   \n",
       "230        575986.00        556048.00        491824.00        413296.00   \n",
       "231      33696614.00      32284046.00      28516545.00      24743946.00   \n",
       "232      20017675.00      18927715.00              NaN      13792086.00   \n",
       "233      16320537.00      15669666.00      14154937.00      12839771.00   \n",
       "\n",
       "     2000 Population  1990 Population  1980 Population  1970 Population  \\\n",
       "0        19542982.00      10694796.00      12486631.00      10752971.00   \n",
       "1         3182021.00       3295066.00       2941651.00       2324731.00   \n",
       "2        30774621.00      25518074.00      18739378.00      13795915.00   \n",
       "3           58230.00         47818.00         32886.00         27075.00   \n",
       "4           66097.00         53569.00         35611.00         19860.00   \n",
       "..               ...              ...              ...              ...   \n",
       "229         14723.00         13454.00         11315.00          9377.00   \n",
       "230        270375.00        178529.00        116775.00         76371.00   \n",
       "231      18628700.00      13375121.00       9204938.00       6843607.00   \n",
       "232       9891136.00       7686401.00       5720438.00       4281671.00   \n",
       "233      11834676.00      10113893.00       7049926.00       5202918.00   \n",
       "\n",
       "     Area (km²)  Density (per km²)  Growth Rate  World Population Percentage  \n",
       "0     652230.00              63.06         1.03                         0.52  \n",
       "1      28748.00              98.87         1.00                         0.04  \n",
       "2    2381741.00              18.85         1.02                         0.56  \n",
       "3        199.00             222.48         0.98                         0.00  \n",
       "4        468.00             170.56         1.01                         0.00  \n",
       "..          ...                ...          ...                          ...  \n",
       "229      142.00              81.49         1.00                         0.00  \n",
       "230   266000.00               2.17         1.02                         0.01  \n",
       "231   527968.00              63.82         1.02                         0.42  \n",
       "232   752612.00              26.60         1.03                         0.25  \n",
       "233   390757.00              41.77         1.02                         0.20  \n",
       "\n",
       "[234 rows x 17 columns]"
      ]
     },
     "execution_count": 41,
     "metadata": {},
     "output_type": "execute_result"
    }
   ],
   "source": [
    "# Set display option for float formatting\n",
    "pd.set_option('display.float_format', lambda x: '%.2f' % x)\n",
    "df"
   ]
  },
  {
   "cell_type": "code",
   "execution_count": 42,
   "id": "4f4eab1b-8a1a-4cc4-9f78-713afe2a4643",
   "metadata": {
    "scrolled": true
   },
   "outputs": [
    {
     "name": "stdout",
     "output_type": "stream",
     "text": [
      "<class 'pandas.core.frame.DataFrame'>\n",
      "RangeIndex: 234 entries, 0 to 233\n",
      "Data columns (total 17 columns):\n",
      " #   Column                       Non-Null Count  Dtype  \n",
      "---  ------                       --------------  -----  \n",
      " 0   Rank                         234 non-null    int64  \n",
      " 1   CCA3                         234 non-null    object \n",
      " 2   Country                      234 non-null    object \n",
      " 3   Capital                      234 non-null    object \n",
      " 4   Continent                    234 non-null    object \n",
      " 5   2022 Population              230 non-null    float64\n",
      " 6   2020 Population              233 non-null    float64\n",
      " 7   2015 Population              230 non-null    float64\n",
      " 8   2010 Population              227 non-null    float64\n",
      " 9   2000 Population              227 non-null    float64\n",
      " 10  1990 Population              229 non-null    float64\n",
      " 11  1980 Population              229 non-null    float64\n",
      " 12  1970 Population              230 non-null    float64\n",
      " 13  Area (km²)                   232 non-null    float64\n",
      " 14  Density (per km²)            230 non-null    float64\n",
      " 15  Growth Rate                  232 non-null    float64\n",
      " 16  World Population Percentage  234 non-null    float64\n",
      "dtypes: float64(12), int64(1), object(4)\n",
      "memory usage: 31.2+ KB\n"
     ]
    }
   ],
   "source": [
    "# Display information about the dataframe\n",
    "df.info()"
   ]
  },
  {
   "cell_type": "markdown",
   "id": "eb0a243e-2e5b-4f0d-82ff-fb1fd48cfc27",
   "metadata": {},
   "source": [
    "From the above information form the data frame we can say that the data frame has 234 rows and 17 columns,With datatypes \n",
    "of object,int,float and columns 2022,2020,2015,2010,2000,1990,1980,1970 polulations,area,density,growth rate columns contians some missing values."
   ]
  },
  {
   "cell_type": "code",
   "execution_count": 43,
   "id": "de35ee9d-7361-45a9-818e-03e37c1eca95",
   "metadata": {},
   "outputs": [
    {
     "data": {
      "text/html": [
       "<div>\n",
       "<style scoped>\n",
       "    .dataframe tbody tr th:only-of-type {\n",
       "        vertical-align: middle;\n",
       "    }\n",
       "\n",
       "    .dataframe tbody tr th {\n",
       "        vertical-align: top;\n",
       "    }\n",
       "\n",
       "    .dataframe thead th {\n",
       "        text-align: right;\n",
       "    }\n",
       "</style>\n",
       "<table border=\"1\" class=\"dataframe\">\n",
       "  <thead>\n",
       "    <tr style=\"text-align: right;\">\n",
       "      <th></th>\n",
       "      <th>Rank</th>\n",
       "      <th>2022 Population</th>\n",
       "      <th>2020 Population</th>\n",
       "      <th>2015 Population</th>\n",
       "      <th>2010 Population</th>\n",
       "      <th>2000 Population</th>\n",
       "      <th>1990 Population</th>\n",
       "      <th>1980 Population</th>\n",
       "      <th>1970 Population</th>\n",
       "      <th>Area (km²)</th>\n",
       "      <th>Density (per km²)</th>\n",
       "      <th>Growth Rate</th>\n",
       "      <th>World Population Percentage</th>\n",
       "    </tr>\n",
       "  </thead>\n",
       "  <tbody>\n",
       "    <tr>\n",
       "      <th>count</th>\n",
       "      <td>234.00</td>\n",
       "      <td>230.00</td>\n",
       "      <td>233.00</td>\n",
       "      <td>230.00</td>\n",
       "      <td>227.00</td>\n",
       "      <td>227.00</td>\n",
       "      <td>229.00</td>\n",
       "      <td>229.00</td>\n",
       "      <td>230.00</td>\n",
       "      <td>232.00</td>\n",
       "      <td>230.00</td>\n",
       "      <td>232.00</td>\n",
       "      <td>234.00</td>\n",
       "    </tr>\n",
       "    <tr>\n",
       "      <th>mean</th>\n",
       "      <td>117.50</td>\n",
       "      <td>34632250.88</td>\n",
       "      <td>33600710.95</td>\n",
       "      <td>32066004.16</td>\n",
       "      <td>30270164.48</td>\n",
       "      <td>26840495.26</td>\n",
       "      <td>19330463.93</td>\n",
       "      <td>16282884.78</td>\n",
       "      <td>15866499.13</td>\n",
       "      <td>581663.75</td>\n",
       "      <td>456.81</td>\n",
       "      <td>1.01</td>\n",
       "      <td>0.43</td>\n",
       "    </tr>\n",
       "    <tr>\n",
       "      <th>std</th>\n",
       "      <td>67.69</td>\n",
       "      <td>137889172.44</td>\n",
       "      <td>135873196.61</td>\n",
       "      <td>131507146.34</td>\n",
       "      <td>126074183.54</td>\n",
       "      <td>113352454.57</td>\n",
       "      <td>81309624.96</td>\n",
       "      <td>69345465.54</td>\n",
       "      <td>68355859.75</td>\n",
       "      <td>1769133.06</td>\n",
       "      <td>2083.74</td>\n",
       "      <td>0.01</td>\n",
       "      <td>1.71</td>\n",
       "    </tr>\n",
       "    <tr>\n",
       "      <th>min</th>\n",
       "      <td>1.00</td>\n",
       "      <td>510.00</td>\n",
       "      <td>520.00</td>\n",
       "      <td>564.00</td>\n",
       "      <td>596.00</td>\n",
       "      <td>651.00</td>\n",
       "      <td>700.00</td>\n",
       "      <td>733.00</td>\n",
       "      <td>752.00</td>\n",
       "      <td>1.00</td>\n",
       "      <td>0.03</td>\n",
       "      <td>0.91</td>\n",
       "      <td>0.00</td>\n",
       "    </tr>\n",
       "    <tr>\n",
       "      <th>25%</th>\n",
       "      <td>59.25</td>\n",
       "      <td>419738.50</td>\n",
       "      <td>406471.00</td>\n",
       "      <td>394295.00</td>\n",
       "      <td>382726.50</td>\n",
       "      <td>329470.00</td>\n",
       "      <td>261928.00</td>\n",
       "      <td>223752.00</td>\n",
       "      <td>145880.50</td>\n",
       "      <td>2567.25</td>\n",
       "      <td>36.60</td>\n",
       "      <td>1.00</td>\n",
       "      <td>0.01</td>\n",
       "    </tr>\n",
       "    <tr>\n",
       "      <th>50%</th>\n",
       "      <td>117.50</td>\n",
       "      <td>5762857.00</td>\n",
       "      <td>5456681.00</td>\n",
       "      <td>5244415.00</td>\n",
       "      <td>4889741.00</td>\n",
       "      <td>4491202.00</td>\n",
       "      <td>3785847.00</td>\n",
       "      <td>3135123.00</td>\n",
       "      <td>2511718.00</td>\n",
       "      <td>77141.00</td>\n",
       "      <td>95.35</td>\n",
       "      <td>1.01</td>\n",
       "      <td>0.07</td>\n",
       "    </tr>\n",
       "    <tr>\n",
       "      <th>75%</th>\n",
       "      <td>175.75</td>\n",
       "      <td>22653719.00</td>\n",
       "      <td>21522626.00</td>\n",
       "      <td>19730853.75</td>\n",
       "      <td>16825852.50</td>\n",
       "      <td>15625467.00</td>\n",
       "      <td>11882762.00</td>\n",
       "      <td>9817257.00</td>\n",
       "      <td>8817329.00</td>\n",
       "      <td>414643.25</td>\n",
       "      <td>236.88</td>\n",
       "      <td>1.02</td>\n",
       "      <td>0.28</td>\n",
       "    </tr>\n",
       "    <tr>\n",
       "      <th>max</th>\n",
       "      <td>234.00</td>\n",
       "      <td>1425887337.00</td>\n",
       "      <td>1424929781.00</td>\n",
       "      <td>1393715448.00</td>\n",
       "      <td>1348191368.00</td>\n",
       "      <td>1264099069.00</td>\n",
       "      <td>1153704252.00</td>\n",
       "      <td>982372466.00</td>\n",
       "      <td>822534450.00</td>\n",
       "      <td>17098242.00</td>\n",
       "      <td>23172.27</td>\n",
       "      <td>1.07</td>\n",
       "      <td>17.88</td>\n",
       "    </tr>\n",
       "  </tbody>\n",
       "</table>\n",
       "</div>"
      ],
      "text/plain": [
       "        Rank  2022 Population  2020 Population  2015 Population  \\\n",
       "count 234.00           230.00           233.00           230.00   \n",
       "mean  117.50      34632250.88      33600710.95      32066004.16   \n",
       "std    67.69     137889172.44     135873196.61     131507146.34   \n",
       "min     1.00           510.00           520.00           564.00   \n",
       "25%    59.25        419738.50        406471.00        394295.00   \n",
       "50%   117.50       5762857.00       5456681.00       5244415.00   \n",
       "75%   175.75      22653719.00      21522626.00      19730853.75   \n",
       "max   234.00    1425887337.00    1424929781.00    1393715448.00   \n",
       "\n",
       "       2010 Population  2000 Population  1990 Population  1980 Population  \\\n",
       "count           227.00           227.00           229.00           229.00   \n",
       "mean       30270164.48      26840495.26      19330463.93      16282884.78   \n",
       "std       126074183.54     113352454.57      81309624.96      69345465.54   \n",
       "min             596.00           651.00           700.00           733.00   \n",
       "25%          382726.50        329470.00        261928.00        223752.00   \n",
       "50%         4889741.00       4491202.00       3785847.00       3135123.00   \n",
       "75%        16825852.50      15625467.00      11882762.00       9817257.00   \n",
       "max      1348191368.00    1264099069.00    1153704252.00     982372466.00   \n",
       "\n",
       "       1970 Population  Area (km²)  Density (per km²)  Growth Rate  \\\n",
       "count           230.00      232.00             230.00       232.00   \n",
       "mean       15866499.13   581663.75             456.81         1.01   \n",
       "std        68355859.75  1769133.06            2083.74         0.01   \n",
       "min             752.00        1.00               0.03         0.91   \n",
       "25%          145880.50     2567.25              36.60         1.00   \n",
       "50%         2511718.00    77141.00              95.35         1.01   \n",
       "75%         8817329.00   414643.25             236.88         1.02   \n",
       "max       822534450.00 17098242.00           23172.27         1.07   \n",
       "\n",
       "       World Population Percentage  \n",
       "count                       234.00  \n",
       "mean                          0.43  \n",
       "std                           1.71  \n",
       "min                           0.00  \n",
       "25%                           0.01  \n",
       "50%                           0.07  \n",
       "75%                           0.28  \n",
       "max                          17.88  "
      ]
     },
     "execution_count": 43,
     "metadata": {},
     "output_type": "execute_result"
    }
   ],
   "source": [
    "# Display summary statistics\n",
    "df.describe()"
   ]
  },
  {
   "cell_type": "markdown",
   "id": "5cca8490-457d-4df1-912a-71b83de9a472",
   "metadata": {},
   "source": [
    "This summary provides key statistical measures for each numeric column, including the count of non-null entries, mean, standard deviation, minimum, 25th percentile (Q1), median (Q2), 75th percentile (Q3), and maximum values."
   ]
  },
  {
   "cell_type": "code",
   "execution_count": 44,
   "id": "dd98f4e5-8b26-4d22-9d15-9ea853008a2a",
   "metadata": {},
   "outputs": [
    {
     "data": {
      "text/plain": [
       "Rank                           0\n",
       "CCA3                           0\n",
       "Country                        0\n",
       "Capital                        0\n",
       "Continent                      0\n",
       "2022 Population                4\n",
       "2020 Population                1\n",
       "2015 Population                4\n",
       "2010 Population                7\n",
       "2000 Population                7\n",
       "1990 Population                5\n",
       "1980 Population                5\n",
       "1970 Population                4\n",
       "Area (km²)                     2\n",
       "Density (per km²)              4\n",
       "Growth Rate                    2\n",
       "World Population Percentage    0\n",
       "dtype: int64"
      ]
     },
     "execution_count": 44,
     "metadata": {},
     "output_type": "execute_result"
    }
   ],
   "source": [
    "# Check for missing values\n",
    "df.isnull().sum()"
   ]
  },
  {
   "cell_type": "markdown",
   "id": "f01803db-444a-4f90-ab86-9b7018a5dbde",
   "metadata": {},
   "source": [
    "There is total 45 missing vales in 11 columns."
   ]
  },
  {
   "cell_type": "code",
   "execution_count": 45,
   "id": "212b3970-17f0-4455-b45a-64c317a27e85",
   "metadata": {},
   "outputs": [],
   "source": [
    "# Drop rows with any missing values\n",
    "df2=df.dropna()\n"
   ]
  },
  {
   "cell_type": "code",
   "execution_count": 46,
   "id": "a1767e0b-2fa4-40cf-8060-151e97be6aa8",
   "metadata": {},
   "outputs": [
    {
     "data": {
      "text/plain": [
       "Rank                           0\n",
       "CCA3                           0\n",
       "Country                        0\n",
       "Capital                        0\n",
       "Continent                      0\n",
       "2022 Population                0\n",
       "2020 Population                0\n",
       "2015 Population                0\n",
       "2010 Population                0\n",
       "2000 Population                0\n",
       "1990 Population                0\n",
       "1980 Population                0\n",
       "1970 Population                0\n",
       "Area (km²)                     0\n",
       "Density (per km²)              0\n",
       "Growth Rate                    0\n",
       "World Population Percentage    0\n",
       "dtype: int64"
      ]
     },
     "execution_count": 46,
     "metadata": {},
     "output_type": "execute_result"
    }
   ],
   "source": [
    "# Verify that there are no missing values left\n",
    "df2.isnull().sum()"
   ]
  },
  {
   "cell_type": "markdown",
   "id": "f085faea-76d3-48a7-8753-e737e8c69a46",
   "metadata": {},
   "source": [
    "After removing the rows with missing values, the table no longer contains any gaps or missing data."
   ]
  },
  {
   "cell_type": "code",
   "execution_count": 47,
   "id": "6fe2c726-2e68-4967-ae29-4cd5f48ee0f3",
   "metadata": {},
   "outputs": [
    {
     "data": {
      "text/plain": [
       "Rank                           209\n",
       "CCA3                           209\n",
       "Country                        209\n",
       "Capital                        209\n",
       "Continent                        6\n",
       "2022 Population                209\n",
       "2020 Population                209\n",
       "2015 Population                209\n",
       "2010 Population                209\n",
       "2000 Population                209\n",
       "1990 Population                209\n",
       "1980 Population                209\n",
       "1970 Population                209\n",
       "Area (km²)                     208\n",
       "Density (per km²)              209\n",
       "Growth Rate                    163\n",
       "World Population Percentage     67\n",
       "dtype: int64"
      ]
     },
     "execution_count": 47,
     "metadata": {},
     "output_type": "execute_result"
    }
   ],
   "source": [
    "# Display the number of unique values in each column\n",
    "df2.nunique()"
   ]
  },
  {
   "cell_type": "code",
   "execution_count": 48,
   "id": "2c16ab48-2394-42c1-9d22-6111b5e6cbad",
   "metadata": {},
   "outputs": [
    {
     "data": {
      "text/html": [
       "<div>\n",
       "<style scoped>\n",
       "    .dataframe tbody tr th:only-of-type {\n",
       "        vertical-align: middle;\n",
       "    }\n",
       "\n",
       "    .dataframe tbody tr th {\n",
       "        vertical-align: top;\n",
       "    }\n",
       "\n",
       "    .dataframe thead th {\n",
       "        text-align: right;\n",
       "    }\n",
       "</style>\n",
       "<table border=\"1\" class=\"dataframe\">\n",
       "  <thead>\n",
       "    <tr style=\"text-align: right;\">\n",
       "      <th></th>\n",
       "      <th>Rank</th>\n",
       "      <th>CCA3</th>\n",
       "      <th>Country</th>\n",
       "      <th>Capital</th>\n",
       "      <th>Continent</th>\n",
       "      <th>2022 Population</th>\n",
       "      <th>2020 Population</th>\n",
       "      <th>2015 Population</th>\n",
       "      <th>2010 Population</th>\n",
       "      <th>2000 Population</th>\n",
       "      <th>1990 Population</th>\n",
       "      <th>1980 Population</th>\n",
       "      <th>1970 Population</th>\n",
       "      <th>Area (km²)</th>\n",
       "      <th>Density (per km²)</th>\n",
       "      <th>Growth Rate</th>\n",
       "      <th>World Population Percentage</th>\n",
       "    </tr>\n",
       "  </thead>\n",
       "  <tbody>\n",
       "    <tr>\n",
       "      <th>41</th>\n",
       "      <td>1</td>\n",
       "      <td>CHN</td>\n",
       "      <td>China</td>\n",
       "      <td>Beijing</td>\n",
       "      <td>Asia</td>\n",
       "      <td>1425887337.00</td>\n",
       "      <td>1424929781.00</td>\n",
       "      <td>1393715448.00</td>\n",
       "      <td>1348191368.00</td>\n",
       "      <td>1264099069.00</td>\n",
       "      <td>1153704252.00</td>\n",
       "      <td>982372466.00</td>\n",
       "      <td>822534450.00</td>\n",
       "      <td>9706961.00</td>\n",
       "      <td>146.89</td>\n",
       "      <td>1.00</td>\n",
       "      <td>17.88</td>\n",
       "    </tr>\n",
       "    <tr>\n",
       "      <th>221</th>\n",
       "      <td>3</td>\n",
       "      <td>USA</td>\n",
       "      <td>United States</td>\n",
       "      <td>Washington, D.C.</td>\n",
       "      <td>North America</td>\n",
       "      <td>338289857.00</td>\n",
       "      <td>335942003.00</td>\n",
       "      <td>324607776.00</td>\n",
       "      <td>311182845.00</td>\n",
       "      <td>282398554.00</td>\n",
       "      <td>248083732.00</td>\n",
       "      <td>223140018.00</td>\n",
       "      <td>200328340.00</td>\n",
       "      <td>9372610.00</td>\n",
       "      <td>36.09</td>\n",
       "      <td>1.00</td>\n",
       "      <td>4.24</td>\n",
       "    </tr>\n",
       "    <tr>\n",
       "      <th>93</th>\n",
       "      <td>4</td>\n",
       "      <td>IDN</td>\n",
       "      <td>Indonesia</td>\n",
       "      <td>Jakarta</td>\n",
       "      <td>Asia</td>\n",
       "      <td>275501339.00</td>\n",
       "      <td>271857970.00</td>\n",
       "      <td>259091970.00</td>\n",
       "      <td>244016173.00</td>\n",
       "      <td>214072421.00</td>\n",
       "      <td>182159874.00</td>\n",
       "      <td>148177096.00</td>\n",
       "      <td>115228394.00</td>\n",
       "      <td>1904569.00</td>\n",
       "      <td>144.65</td>\n",
       "      <td>1.01</td>\n",
       "      <td>3.45</td>\n",
       "    </tr>\n",
       "    <tr>\n",
       "      <th>156</th>\n",
       "      <td>5</td>\n",
       "      <td>PAK</td>\n",
       "      <td>Pakistan</td>\n",
       "      <td>Islamabad</td>\n",
       "      <td>Asia</td>\n",
       "      <td>235824862.00</td>\n",
       "      <td>227196741.00</td>\n",
       "      <td>210969298.00</td>\n",
       "      <td>194454498.00</td>\n",
       "      <td>154369924.00</td>\n",
       "      <td>115414069.00</td>\n",
       "      <td>80624057.00</td>\n",
       "      <td>59290872.00</td>\n",
       "      <td>881912.00</td>\n",
       "      <td>267.40</td>\n",
       "      <td>1.02</td>\n",
       "      <td>2.96</td>\n",
       "    </tr>\n",
       "    <tr>\n",
       "      <th>149</th>\n",
       "      <td>6</td>\n",
       "      <td>NGA</td>\n",
       "      <td>Nigeria</td>\n",
       "      <td>Abuja</td>\n",
       "      <td>Africa</td>\n",
       "      <td>218541212.00</td>\n",
       "      <td>208327405.00</td>\n",
       "      <td>183995785.00</td>\n",
       "      <td>160952853.00</td>\n",
       "      <td>122851984.00</td>\n",
       "      <td>95214257.00</td>\n",
       "      <td>72951439.00</td>\n",
       "      <td>55569264.00</td>\n",
       "      <td>923768.00</td>\n",
       "      <td>236.58</td>\n",
       "      <td>1.02</td>\n",
       "      <td>2.74</td>\n",
       "    </tr>\n",
       "    <tr>\n",
       "      <th>27</th>\n",
       "      <td>7</td>\n",
       "      <td>BRA</td>\n",
       "      <td>Brazil</td>\n",
       "      <td>Brasilia</td>\n",
       "      <td>South America</td>\n",
       "      <td>215313498.00</td>\n",
       "      <td>213196304.00</td>\n",
       "      <td>205188205.00</td>\n",
       "      <td>196353492.00</td>\n",
       "      <td>175873720.00</td>\n",
       "      <td>150706446.00</td>\n",
       "      <td>122288383.00</td>\n",
       "      <td>96369875.00</td>\n",
       "      <td>8515767.00</td>\n",
       "      <td>25.28</td>\n",
       "      <td>1.00</td>\n",
       "      <td>2.70</td>\n",
       "    </tr>\n",
       "    <tr>\n",
       "      <th>16</th>\n",
       "      <td>8</td>\n",
       "      <td>BGD</td>\n",
       "      <td>Bangladesh</td>\n",
       "      <td>Dhaka</td>\n",
       "      <td>Asia</td>\n",
       "      <td>171186372.00</td>\n",
       "      <td>167420951.00</td>\n",
       "      <td>157830000.00</td>\n",
       "      <td>148391139.00</td>\n",
       "      <td>129193327.00</td>\n",
       "      <td>107147651.00</td>\n",
       "      <td>83929765.00</td>\n",
       "      <td>67541860.00</td>\n",
       "      <td>147570.00</td>\n",
       "      <td>1160.04</td>\n",
       "      <td>1.01</td>\n",
       "      <td>2.15</td>\n",
       "    </tr>\n",
       "    <tr>\n",
       "      <th>171</th>\n",
       "      <td>9</td>\n",
       "      <td>RUS</td>\n",
       "      <td>Russia</td>\n",
       "      <td>Moscow</td>\n",
       "      <td>Europe</td>\n",
       "      <td>144713314.00</td>\n",
       "      <td>145617329.00</td>\n",
       "      <td>144668389.00</td>\n",
       "      <td>143242599.00</td>\n",
       "      <td>146844839.00</td>\n",
       "      <td>148005704.00</td>\n",
       "      <td>138257420.00</td>\n",
       "      <td>130093010.00</td>\n",
       "      <td>17098242.00</td>\n",
       "      <td>8.46</td>\n",
       "      <td>1.00</td>\n",
       "      <td>1.81</td>\n",
       "    </tr>\n",
       "    <tr>\n",
       "      <th>131</th>\n",
       "      <td>10</td>\n",
       "      <td>MEX</td>\n",
       "      <td>Mexico</td>\n",
       "      <td>Mexico City</td>\n",
       "      <td>North America</td>\n",
       "      <td>127504125.00</td>\n",
       "      <td>125998302.00</td>\n",
       "      <td>120149897.00</td>\n",
       "      <td>112532401.00</td>\n",
       "      <td>97873442.00</td>\n",
       "      <td>81720428.00</td>\n",
       "      <td>67705186.00</td>\n",
       "      <td>50289306.00</td>\n",
       "      <td>1964375.00</td>\n",
       "      <td>64.91</td>\n",
       "      <td>1.01</td>\n",
       "      <td>1.60</td>\n",
       "    </tr>\n",
       "    <tr>\n",
       "      <th>102</th>\n",
       "      <td>11</td>\n",
       "      <td>JPN</td>\n",
       "      <td>Japan</td>\n",
       "      <td>Tokyo</td>\n",
       "      <td>Asia</td>\n",
       "      <td>123951692.00</td>\n",
       "      <td>125244761.00</td>\n",
       "      <td>127250933.00</td>\n",
       "      <td>128105431.00</td>\n",
       "      <td>126803861.00</td>\n",
       "      <td>123686321.00</td>\n",
       "      <td>117624196.00</td>\n",
       "      <td>105416839.00</td>\n",
       "      <td>377930.00</td>\n",
       "      <td>327.98</td>\n",
       "      <td>0.99</td>\n",
       "      <td>1.55</td>\n",
       "    </tr>\n",
       "  </tbody>\n",
       "</table>\n",
       "</div>"
      ],
      "text/plain": [
       "     Rank CCA3        Country           Capital      Continent  \\\n",
       "41      1  CHN          China           Beijing           Asia   \n",
       "221     3  USA  United States  Washington, D.C.  North America   \n",
       "93      4  IDN      Indonesia           Jakarta           Asia   \n",
       "156     5  PAK       Pakistan         Islamabad           Asia   \n",
       "149     6  NGA        Nigeria             Abuja         Africa   \n",
       "27      7  BRA         Brazil          Brasilia  South America   \n",
       "16      8  BGD     Bangladesh             Dhaka           Asia   \n",
       "171     9  RUS         Russia            Moscow         Europe   \n",
       "131    10  MEX         Mexico       Mexico City  North America   \n",
       "102    11  JPN          Japan             Tokyo           Asia   \n",
       "\n",
       "     2022 Population  2020 Population  2015 Population  2010 Population  \\\n",
       "41     1425887337.00    1424929781.00    1393715448.00    1348191368.00   \n",
       "221     338289857.00     335942003.00     324607776.00     311182845.00   \n",
       "93      275501339.00     271857970.00     259091970.00     244016173.00   \n",
       "156     235824862.00     227196741.00     210969298.00     194454498.00   \n",
       "149     218541212.00     208327405.00     183995785.00     160952853.00   \n",
       "27      215313498.00     213196304.00     205188205.00     196353492.00   \n",
       "16      171186372.00     167420951.00     157830000.00     148391139.00   \n",
       "171     144713314.00     145617329.00     144668389.00     143242599.00   \n",
       "131     127504125.00     125998302.00     120149897.00     112532401.00   \n",
       "102     123951692.00     125244761.00     127250933.00     128105431.00   \n",
       "\n",
       "     2000 Population  1990 Population  1980 Population  1970 Population  \\\n",
       "41     1264099069.00    1153704252.00     982372466.00     822534450.00   \n",
       "221     282398554.00     248083732.00     223140018.00     200328340.00   \n",
       "93      214072421.00     182159874.00     148177096.00     115228394.00   \n",
       "156     154369924.00     115414069.00      80624057.00      59290872.00   \n",
       "149     122851984.00      95214257.00      72951439.00      55569264.00   \n",
       "27      175873720.00     150706446.00     122288383.00      96369875.00   \n",
       "16      129193327.00     107147651.00      83929765.00      67541860.00   \n",
       "171     146844839.00     148005704.00     138257420.00     130093010.00   \n",
       "131      97873442.00      81720428.00      67705186.00      50289306.00   \n",
       "102     126803861.00     123686321.00     117624196.00     105416839.00   \n",
       "\n",
       "     Area (km²)  Density (per km²)  Growth Rate  World Population Percentage  \n",
       "41   9706961.00             146.89         1.00                        17.88  \n",
       "221  9372610.00              36.09         1.00                         4.24  \n",
       "93   1904569.00             144.65         1.01                         3.45  \n",
       "156   881912.00             267.40         1.02                         2.96  \n",
       "149   923768.00             236.58         1.02                         2.74  \n",
       "27   8515767.00              25.28         1.00                         2.70  \n",
       "16    147570.00            1160.04         1.01                         2.15  \n",
       "171 17098242.00               8.46         1.00                         1.81  \n",
       "131  1964375.00              64.91         1.01                         1.60  \n",
       "102   377930.00             327.98         0.99                         1.55  "
      ]
     },
     "execution_count": 48,
     "metadata": {},
     "output_type": "execute_result"
    }
   ],
   "source": [
    "# Display the top 10 countries by world population percentage\n",
    "df2.sort_values(by=\"World Population Percentage\", ascending=False).head(10)"
   ]
  },
  {
   "cell_type": "markdown",
   "id": "ad900d94-0546-43a8-88a6-b0a3e98acf1a",
   "metadata": {},
   "source": [
    "he table above presents the ranks of countries based on population. Notably, rank 2 is absent due to missing data in the row corresponding to India"
   ]
  },
  {
   "cell_type": "code",
   "execution_count": 49,
   "id": "442404dd-a63e-40d6-9967-d08153de5a5a",
   "metadata": {},
   "outputs": [
    {
     "data": {
      "text/html": [
       "<div>\n",
       "<style scoped>\n",
       "    .dataframe tbody tr th:only-of-type {\n",
       "        vertical-align: middle;\n",
       "    }\n",
       "\n",
       "    .dataframe tbody tr th {\n",
       "        vertical-align: top;\n",
       "    }\n",
       "\n",
       "    .dataframe thead th {\n",
       "        text-align: right;\n",
       "    }\n",
       "</style>\n",
       "<table border=\"1\" class=\"dataframe\">\n",
       "  <thead>\n",
       "    <tr style=\"text-align: right;\">\n",
       "      <th></th>\n",
       "      <th>Rank</th>\n",
       "      <th>2022 Population</th>\n",
       "      <th>2020 Population</th>\n",
       "      <th>2015 Population</th>\n",
       "      <th>2010 Population</th>\n",
       "      <th>2000 Population</th>\n",
       "      <th>1990 Population</th>\n",
       "      <th>1980 Population</th>\n",
       "      <th>1970 Population</th>\n",
       "      <th>Area (km²)</th>\n",
       "      <th>Density (per km²)</th>\n",
       "      <th>Growth Rate</th>\n",
       "      <th>World Population Percentage</th>\n",
       "    </tr>\n",
       "  </thead>\n",
       "  <tbody>\n",
       "    <tr>\n",
       "      <th>Rank</th>\n",
       "      <td>1.00</td>\n",
       "      <td>-0.36</td>\n",
       "      <td>-0.36</td>\n",
       "      <td>-0.35</td>\n",
       "      <td>-0.35</td>\n",
       "      <td>-0.34</td>\n",
       "      <td>-0.33</td>\n",
       "      <td>-0.33</td>\n",
       "      <td>-0.34</td>\n",
       "      <td>-0.38</td>\n",
       "      <td>0.13</td>\n",
       "      <td>-0.22</td>\n",
       "      <td>-0.36</td>\n",
       "    </tr>\n",
       "    <tr>\n",
       "      <th>2022 Population</th>\n",
       "      <td>-0.36</td>\n",
       "      <td>1.00</td>\n",
       "      <td>1.00</td>\n",
       "      <td>1.00</td>\n",
       "      <td>1.00</td>\n",
       "      <td>0.99</td>\n",
       "      <td>0.99</td>\n",
       "      <td>0.99</td>\n",
       "      <td>0.97</td>\n",
       "      <td>0.45</td>\n",
       "      <td>-0.03</td>\n",
       "      <td>-0.02</td>\n",
       "      <td>1.00</td>\n",
       "    </tr>\n",
       "    <tr>\n",
       "      <th>2020 Population</th>\n",
       "      <td>-0.36</td>\n",
       "      <td>1.00</td>\n",
       "      <td>1.00</td>\n",
       "      <td>1.00</td>\n",
       "      <td>1.00</td>\n",
       "      <td>1.00</td>\n",
       "      <td>0.99</td>\n",
       "      <td>0.99</td>\n",
       "      <td>0.98</td>\n",
       "      <td>0.45</td>\n",
       "      <td>-0.03</td>\n",
       "      <td>-0.03</td>\n",
       "      <td>1.00</td>\n",
       "    </tr>\n",
       "    <tr>\n",
       "      <th>2015 Population</th>\n",
       "      <td>-0.35</td>\n",
       "      <td>1.00</td>\n",
       "      <td>1.00</td>\n",
       "      <td>1.00</td>\n",
       "      <td>1.00</td>\n",
       "      <td>1.00</td>\n",
       "      <td>0.99</td>\n",
       "      <td>0.99</td>\n",
       "      <td>0.98</td>\n",
       "      <td>0.46</td>\n",
       "      <td>-0.03</td>\n",
       "      <td>-0.03</td>\n",
       "      <td>1.00</td>\n",
       "    </tr>\n",
       "    <tr>\n",
       "      <th>2010 Population</th>\n",
       "      <td>-0.35</td>\n",
       "      <td>1.00</td>\n",
       "      <td>1.00</td>\n",
       "      <td>1.00</td>\n",
       "      <td>1.00</td>\n",
       "      <td>1.00</td>\n",
       "      <td>1.00</td>\n",
       "      <td>0.99</td>\n",
       "      <td>0.98</td>\n",
       "      <td>0.46</td>\n",
       "      <td>-0.03</td>\n",
       "      <td>-0.04</td>\n",
       "      <td>1.00</td>\n",
       "    </tr>\n",
       "    <tr>\n",
       "      <th>2000 Population</th>\n",
       "      <td>-0.34</td>\n",
       "      <td>0.99</td>\n",
       "      <td>1.00</td>\n",
       "      <td>1.00</td>\n",
       "      <td>1.00</td>\n",
       "      <td>1.00</td>\n",
       "      <td>1.00</td>\n",
       "      <td>1.00</td>\n",
       "      <td>0.99</td>\n",
       "      <td>0.47</td>\n",
       "      <td>-0.03</td>\n",
       "      <td>-0.05</td>\n",
       "      <td>0.99</td>\n",
       "    </tr>\n",
       "    <tr>\n",
       "      <th>1990 Population</th>\n",
       "      <td>-0.33</td>\n",
       "      <td>0.99</td>\n",
       "      <td>0.99</td>\n",
       "      <td>0.99</td>\n",
       "      <td>1.00</td>\n",
       "      <td>1.00</td>\n",
       "      <td>1.00</td>\n",
       "      <td>1.00</td>\n",
       "      <td>1.00</td>\n",
       "      <td>0.52</td>\n",
       "      <td>-0.03</td>\n",
       "      <td>-0.07</td>\n",
       "      <td>0.99</td>\n",
       "    </tr>\n",
       "    <tr>\n",
       "      <th>1980 Population</th>\n",
       "      <td>-0.33</td>\n",
       "      <td>0.99</td>\n",
       "      <td>0.99</td>\n",
       "      <td>0.99</td>\n",
       "      <td>0.99</td>\n",
       "      <td>1.00</td>\n",
       "      <td>1.00</td>\n",
       "      <td>1.00</td>\n",
       "      <td>1.00</td>\n",
       "      <td>0.53</td>\n",
       "      <td>-0.03</td>\n",
       "      <td>-0.08</td>\n",
       "      <td>0.99</td>\n",
       "    </tr>\n",
       "    <tr>\n",
       "      <th>1970 Population</th>\n",
       "      <td>-0.34</td>\n",
       "      <td>0.97</td>\n",
       "      <td>0.98</td>\n",
       "      <td>0.98</td>\n",
       "      <td>0.98</td>\n",
       "      <td>0.99</td>\n",
       "      <td>1.00</td>\n",
       "      <td>1.00</td>\n",
       "      <td>1.00</td>\n",
       "      <td>0.51</td>\n",
       "      <td>-0.03</td>\n",
       "      <td>-0.08</td>\n",
       "      <td>0.97</td>\n",
       "    </tr>\n",
       "    <tr>\n",
       "      <th>Area (km²)</th>\n",
       "      <td>-0.38</td>\n",
       "      <td>0.45</td>\n",
       "      <td>0.45</td>\n",
       "      <td>0.46</td>\n",
       "      <td>0.46</td>\n",
       "      <td>0.47</td>\n",
       "      <td>0.52</td>\n",
       "      <td>0.53</td>\n",
       "      <td>0.51</td>\n",
       "      <td>1.00</td>\n",
       "      <td>-0.06</td>\n",
       "      <td>-0.01</td>\n",
       "      <td>0.45</td>\n",
       "    </tr>\n",
       "    <tr>\n",
       "      <th>Density (per km²)</th>\n",
       "      <td>0.13</td>\n",
       "      <td>-0.03</td>\n",
       "      <td>-0.03</td>\n",
       "      <td>-0.03</td>\n",
       "      <td>-0.03</td>\n",
       "      <td>-0.03</td>\n",
       "      <td>-0.03</td>\n",
       "      <td>-0.03</td>\n",
       "      <td>-0.03</td>\n",
       "      <td>-0.06</td>\n",
       "      <td>1.00</td>\n",
       "      <td>-0.07</td>\n",
       "      <td>-0.03</td>\n",
       "    </tr>\n",
       "    <tr>\n",
       "      <th>Growth Rate</th>\n",
       "      <td>-0.22</td>\n",
       "      <td>-0.02</td>\n",
       "      <td>-0.03</td>\n",
       "      <td>-0.03</td>\n",
       "      <td>-0.04</td>\n",
       "      <td>-0.05</td>\n",
       "      <td>-0.07</td>\n",
       "      <td>-0.08</td>\n",
       "      <td>-0.08</td>\n",
       "      <td>-0.01</td>\n",
       "      <td>-0.07</td>\n",
       "      <td>1.00</td>\n",
       "      <td>-0.02</td>\n",
       "    </tr>\n",
       "    <tr>\n",
       "      <th>World Population Percentage</th>\n",
       "      <td>-0.36</td>\n",
       "      <td>1.00</td>\n",
       "      <td>1.00</td>\n",
       "      <td>1.00</td>\n",
       "      <td>1.00</td>\n",
       "      <td>0.99</td>\n",
       "      <td>0.99</td>\n",
       "      <td>0.99</td>\n",
       "      <td>0.97</td>\n",
       "      <td>0.45</td>\n",
       "      <td>-0.03</td>\n",
       "      <td>-0.02</td>\n",
       "      <td>1.00</td>\n",
       "    </tr>\n",
       "  </tbody>\n",
       "</table>\n",
       "</div>"
      ],
      "text/plain": [
       "                             Rank  2022 Population  2020 Population  \\\n",
       "Rank                         1.00            -0.36            -0.36   \n",
       "2022 Population             -0.36             1.00             1.00   \n",
       "2020 Population             -0.36             1.00             1.00   \n",
       "2015 Population             -0.35             1.00             1.00   \n",
       "2010 Population             -0.35             1.00             1.00   \n",
       "2000 Population             -0.34             0.99             1.00   \n",
       "1990 Population             -0.33             0.99             0.99   \n",
       "1980 Population             -0.33             0.99             0.99   \n",
       "1970 Population             -0.34             0.97             0.98   \n",
       "Area (km²)                  -0.38             0.45             0.45   \n",
       "Density (per km²)            0.13            -0.03            -0.03   \n",
       "Growth Rate                 -0.22            -0.02            -0.03   \n",
       "World Population Percentage -0.36             1.00             1.00   \n",
       "\n",
       "                             2015 Population  2010 Population  \\\n",
       "Rank                                   -0.35            -0.35   \n",
       "2022 Population                         1.00             1.00   \n",
       "2020 Population                         1.00             1.00   \n",
       "2015 Population                         1.00             1.00   \n",
       "2010 Population                         1.00             1.00   \n",
       "2000 Population                         1.00             1.00   \n",
       "1990 Population                         0.99             1.00   \n",
       "1980 Population                         0.99             0.99   \n",
       "1970 Population                         0.98             0.98   \n",
       "Area (km²)                              0.46             0.46   \n",
       "Density (per km²)                      -0.03            -0.03   \n",
       "Growth Rate                            -0.03            -0.04   \n",
       "World Population Percentage             1.00             1.00   \n",
       "\n",
       "                             2000 Population  1990 Population  \\\n",
       "Rank                                   -0.34            -0.33   \n",
       "2022 Population                         0.99             0.99   \n",
       "2020 Population                         1.00             0.99   \n",
       "2015 Population                         1.00             0.99   \n",
       "2010 Population                         1.00             1.00   \n",
       "2000 Population                         1.00             1.00   \n",
       "1990 Population                         1.00             1.00   \n",
       "1980 Population                         1.00             1.00   \n",
       "1970 Population                         0.99             1.00   \n",
       "Area (km²)                              0.47             0.52   \n",
       "Density (per km²)                      -0.03            -0.03   \n",
       "Growth Rate                            -0.05            -0.07   \n",
       "World Population Percentage             0.99             0.99   \n",
       "\n",
       "                             1980 Population  1970 Population  Area (km²)  \\\n",
       "Rank                                   -0.33            -0.34       -0.38   \n",
       "2022 Population                         0.99             0.97        0.45   \n",
       "2020 Population                         0.99             0.98        0.45   \n",
       "2015 Population                         0.99             0.98        0.46   \n",
       "2010 Population                         0.99             0.98        0.46   \n",
       "2000 Population                         1.00             0.99        0.47   \n",
       "1990 Population                         1.00             1.00        0.52   \n",
       "1980 Population                         1.00             1.00        0.53   \n",
       "1970 Population                         1.00             1.00        0.51   \n",
       "Area (km²)                              0.53             0.51        1.00   \n",
       "Density (per km²)                      -0.03            -0.03       -0.06   \n",
       "Growth Rate                            -0.08            -0.08       -0.01   \n",
       "World Population Percentage             0.99             0.97        0.45   \n",
       "\n",
       "                             Density (per km²)  Growth Rate  \\\n",
       "Rank                                      0.13        -0.22   \n",
       "2022 Population                          -0.03        -0.02   \n",
       "2020 Population                          -0.03        -0.03   \n",
       "2015 Population                          -0.03        -0.03   \n",
       "2010 Population                          -0.03        -0.04   \n",
       "2000 Population                          -0.03        -0.05   \n",
       "1990 Population                          -0.03        -0.07   \n",
       "1980 Population                          -0.03        -0.08   \n",
       "1970 Population                          -0.03        -0.08   \n",
       "Area (km²)                               -0.06        -0.01   \n",
       "Density (per km²)                         1.00        -0.07   \n",
       "Growth Rate                              -0.07         1.00   \n",
       "World Population Percentage              -0.03        -0.02   \n",
       "\n",
       "                             World Population Percentage  \n",
       "Rank                                               -0.36  \n",
       "2022 Population                                     1.00  \n",
       "2020 Population                                     1.00  \n",
       "2015 Population                                     1.00  \n",
       "2010 Population                                     1.00  \n",
       "2000 Population                                     0.99  \n",
       "1990 Population                                     0.99  \n",
       "1980 Population                                     0.99  \n",
       "1970 Population                                     0.97  \n",
       "Area (km²)                                          0.45  \n",
       "Density (per km²)                                  -0.03  \n",
       "Growth Rate                                        -0.02  \n",
       "World Population Percentage                         1.00  "
      ]
     },
     "execution_count": 49,
     "metadata": {},
     "output_type": "execute_result"
    }
   ],
   "source": [
    "# Select only numeric columns for correlation analysis\n",
    "numeric_df = df.select_dtypes(include='number')\n",
    "numeric_df.corr()\n"
   ]
  },
  {
   "cell_type": "markdown",
   "id": "38817d6a-cf21-48f4-9bf3-aa95819eb014",
   "metadata": {},
   "source": [
    "Correlation Coefficients\n",
    "Range: The values range from -1 to 1.\n",
    "1 indicates a perfect positive correlation.\n",
    "-1 indicates a perfect negative correlation.\n",
    "0 indicates no correlation.\n",
    "\n",
    "High Correlation: Population figures over different years are highly correlated with each other, indicating consistent growth trends.\n",
    "\r\n",
    "Negative Correlation with Rank: Higher ranked countries (lower rank number) have larger populations.\r\n",
    "Area and Population: There is a moderate positive correlation, suggesting larger countries tend to have larger populations, but with exception\n",
    "s.\r\n",
    "Weak Correlations: Density and Growth Rate show weak correlations with population figures, suggesting other factors influence these metrics.\n"
   ]
  },
  {
   "cell_type": "code",
   "execution_count": 50,
   "id": "a681e646-40aa-4921-b50f-14c75ad4e632",
   "metadata": {},
   "outputs": [
    {
     "data": {
      "text/html": [
       "<div>\n",
       "<style scoped>\n",
       "    .dataframe tbody tr th:only-of-type {\n",
       "        vertical-align: middle;\n",
       "    }\n",
       "\n",
       "    .dataframe tbody tr th {\n",
       "        vertical-align: top;\n",
       "    }\n",
       "\n",
       "    .dataframe thead th {\n",
       "        text-align: right;\n",
       "    }\n",
       "</style>\n",
       "<table border=\"1\" class=\"dataframe\">\n",
       "  <thead>\n",
       "    <tr style=\"text-align: right;\">\n",
       "      <th></th>\n",
       "      <th>1970 Population</th>\n",
       "      <th>1980 Population</th>\n",
       "      <th>1990 Population</th>\n",
       "      <th>2000 Population</th>\n",
       "      <th>2010 Population</th>\n",
       "      <th>2015 Population</th>\n",
       "      <th>2020 Population</th>\n",
       "      <th>2022 Population</th>\n",
       "      <th>World Population Percentage</th>\n",
       "    </tr>\n",
       "    <tr>\n",
       "      <th>Continent</th>\n",
       "      <th></th>\n",
       "      <th></th>\n",
       "      <th></th>\n",
       "      <th></th>\n",
       "      <th></th>\n",
       "      <th></th>\n",
       "      <th></th>\n",
       "      <th></th>\n",
       "      <th></th>\n",
       "    </tr>\n",
       "  </thead>\n",
       "  <tbody>\n",
       "    <tr>\n",
       "      <th>Asia</th>\n",
       "      <td>35590784.79</td>\n",
       "      <td>43423636.49</td>\n",
       "      <td>52408451.47</td>\n",
       "      <td>59902972.09</td>\n",
       "      <td>66695706.81</td>\n",
       "      <td>70203359.07</td>\n",
       "      <td>73166475.70</td>\n",
       "      <td>74014123.44</td>\n",
       "      <td>0.93</td>\n",
       "    </tr>\n",
       "    <tr>\n",
       "      <th>South America</th>\n",
       "      <td>13390535.58</td>\n",
       "      <td>16700197.33</td>\n",
       "      <td>20399536.92</td>\n",
       "      <td>23832618.17</td>\n",
       "      <td>26628926.67</td>\n",
       "      <td>27957079.33</td>\n",
       "      <td>29342410.67</td>\n",
       "      <td>29720074.00</td>\n",
       "      <td>0.37</td>\n",
       "    </tr>\n",
       "    <tr>\n",
       "      <th>Africa</th>\n",
       "      <td>6969879.85</td>\n",
       "      <td>9139807.92</td>\n",
       "      <td>12158419.56</td>\n",
       "      <td>15558198.27</td>\n",
       "      <td>19975819.02</td>\n",
       "      <td>22715954.10</td>\n",
       "      <td>25725500.10</td>\n",
       "      <td>26961948.00</td>\n",
       "      <td>0.34</td>\n",
       "    </tr>\n",
       "    <tr>\n",
       "      <th>Europe</th>\n",
       "      <td>13945879.17</td>\n",
       "      <td>14728110.76</td>\n",
       "      <td>15335326.54</td>\n",
       "      <td>15458519.15</td>\n",
       "      <td>15660596.24</td>\n",
       "      <td>15785573.39</td>\n",
       "      <td>15875241.48</td>\n",
       "      <td>15811725.04</td>\n",
       "      <td>0.20</td>\n",
       "    </tr>\n",
       "    <tr>\n",
       "      <th>North America</th>\n",
       "      <td>8225963.82</td>\n",
       "      <td>9606051.66</td>\n",
       "      <td>10989680.97</td>\n",
       "      <td>12687504.63</td>\n",
       "      <td>14173064.71</td>\n",
       "      <td>14898137.58</td>\n",
       "      <td>15523631.84</td>\n",
       "      <td>15682571.45</td>\n",
       "      <td>0.20</td>\n",
       "    </tr>\n",
       "    <tr>\n",
       "      <th>Oceania</th>\n",
       "      <td>884950.18</td>\n",
       "      <td>1041272.18</td>\n",
       "      <td>1214933.14</td>\n",
       "      <td>1418320.55</td>\n",
       "      <td>1685646.55</td>\n",
       "      <td>1835704.05</td>\n",
       "      <td>1996157.00</td>\n",
       "      <td>2046386.32</td>\n",
       "      <td>0.03</td>\n",
       "    </tr>\n",
       "  </tbody>\n",
       "</table>\n",
       "</div>"
      ],
      "text/plain": [
       "               1970 Population  1980 Population  1990 Population  \\\n",
       "Continent                                                          \n",
       "Asia               35590784.79      43423636.49      52408451.47   \n",
       "South America      13390535.58      16700197.33      20399536.92   \n",
       "Africa              6969879.85       9139807.92      12158419.56   \n",
       "Europe             13945879.17      14728110.76      15335326.54   \n",
       "North America       8225963.82       9606051.66      10989680.97   \n",
       "Oceania              884950.18       1041272.18       1214933.14   \n",
       "\n",
       "               2000 Population  2010 Population  2015 Population  \\\n",
       "Continent                                                          \n",
       "Asia               59902972.09      66695706.81      70203359.07   \n",
       "South America      23832618.17      26628926.67      27957079.33   \n",
       "Africa             15558198.27      19975819.02      22715954.10   \n",
       "Europe             15458519.15      15660596.24      15785573.39   \n",
       "North America      12687504.63      14173064.71      14898137.58   \n",
       "Oceania             1418320.55       1685646.55       1835704.05   \n",
       "\n",
       "               2020 Population  2022 Population  World Population Percentage  \n",
       "Continent                                                                     \n",
       "Asia               73166475.70      74014123.44                         0.93  \n",
       "South America      29342410.67      29720074.00                         0.37  \n",
       "Africa             25725500.10      26961948.00                         0.34  \n",
       "Europe             15875241.48      15811725.04                         0.20  \n",
       "North America      15523631.84      15682571.45                         0.20  \n",
       "Oceania             1996157.00       2046386.32                         0.03  "
      ]
     },
     "execution_count": 50,
     "metadata": {},
     "output_type": "execute_result"
    }
   ],
   "source": [
    "# Columns to be used in further analysis\n",
    "numeric_cols = ['1970 Population', '1980 Population', '1990 Population', '2000 Population',\n",
    "                '2010 Population', '2015 Population', '2020 Population', '2022 Population',\n",
    "                'World Population Percentage']\n",
    "\n",
    "# Group data by continent and compute the mean for the numeric columns, then sort by 2022 population\n",
    "df3 = df2.groupby('Continent')[numeric_cols].mean().sort_values(by=\"2022 Population\", ascending=False)\n",
    "df3"
   ]
  },
  {
   "cell_type": "code",
   "execution_count": 51,
   "id": "8118184b-9b1b-457c-a38d-54f3649dc57d",
   "metadata": {},
   "outputs": [
    {
     "data": {
      "text/plain": [
       "Index(['1970 Population', '1980 Population', '1990 Population',\n",
       "       '2000 Population', '2010 Population', '2015 Population',\n",
       "       '2020 Population', '2022 Population', 'World Population Percentage'],\n",
       "      dtype='object')"
      ]
     },
     "execution_count": 51,
     "metadata": {},
     "output_type": "execute_result"
    }
   ],
   "source": [
    "df3.columns"
   ]
  },
  {
   "cell_type": "code",
   "execution_count": 52,
   "id": "11968197-2447-4666-aef3-24e32cbd911c",
   "metadata": {},
   "outputs": [
    {
     "data": {
      "text/html": [
       "<div>\n",
       "<style scoped>\n",
       "    .dataframe tbody tr th:only-of-type {\n",
       "        vertical-align: middle;\n",
       "    }\n",
       "\n",
       "    .dataframe tbody tr th {\n",
       "        vertical-align: top;\n",
       "    }\n",
       "\n",
       "    .dataframe thead th {\n",
       "        text-align: right;\n",
       "    }\n",
       "</style>\n",
       "<table border=\"1\" class=\"dataframe\">\n",
       "  <thead>\n",
       "    <tr style=\"text-align: right;\">\n",
       "      <th>Continent</th>\n",
       "      <th>Asia</th>\n",
       "      <th>South America</th>\n",
       "      <th>Africa</th>\n",
       "      <th>Europe</th>\n",
       "      <th>North America</th>\n",
       "      <th>Oceania</th>\n",
       "    </tr>\n",
       "  </thead>\n",
       "  <tbody>\n",
       "    <tr>\n",
       "      <th>1970 Population</th>\n",
       "      <td>35590784.79</td>\n",
       "      <td>13390535.58</td>\n",
       "      <td>6969879.85</td>\n",
       "      <td>13945879.17</td>\n",
       "      <td>8225963.82</td>\n",
       "      <td>884950.18</td>\n",
       "    </tr>\n",
       "    <tr>\n",
       "      <th>1980 Population</th>\n",
       "      <td>43423636.49</td>\n",
       "      <td>16700197.33</td>\n",
       "      <td>9139807.92</td>\n",
       "      <td>14728110.76</td>\n",
       "      <td>9606051.66</td>\n",
       "      <td>1041272.18</td>\n",
       "    </tr>\n",
       "    <tr>\n",
       "      <th>1990 Population</th>\n",
       "      <td>52408451.47</td>\n",
       "      <td>20399536.92</td>\n",
       "      <td>12158419.56</td>\n",
       "      <td>15335326.54</td>\n",
       "      <td>10989680.97</td>\n",
       "      <td>1214933.14</td>\n",
       "    </tr>\n",
       "    <tr>\n",
       "      <th>2000 Population</th>\n",
       "      <td>59902972.09</td>\n",
       "      <td>23832618.17</td>\n",
       "      <td>15558198.27</td>\n",
       "      <td>15458519.15</td>\n",
       "      <td>12687504.63</td>\n",
       "      <td>1418320.55</td>\n",
       "    </tr>\n",
       "    <tr>\n",
       "      <th>2010 Population</th>\n",
       "      <td>66695706.81</td>\n",
       "      <td>26628926.67</td>\n",
       "      <td>19975819.02</td>\n",
       "      <td>15660596.24</td>\n",
       "      <td>14173064.71</td>\n",
       "      <td>1685646.55</td>\n",
       "    </tr>\n",
       "    <tr>\n",
       "      <th>2015 Population</th>\n",
       "      <td>70203359.07</td>\n",
       "      <td>27957079.33</td>\n",
       "      <td>22715954.10</td>\n",
       "      <td>15785573.39</td>\n",
       "      <td>14898137.58</td>\n",
       "      <td>1835704.05</td>\n",
       "    </tr>\n",
       "    <tr>\n",
       "      <th>2020 Population</th>\n",
       "      <td>73166475.70</td>\n",
       "      <td>29342410.67</td>\n",
       "      <td>25725500.10</td>\n",
       "      <td>15875241.48</td>\n",
       "      <td>15523631.84</td>\n",
       "      <td>1996157.00</td>\n",
       "    </tr>\n",
       "    <tr>\n",
       "      <th>2022 Population</th>\n",
       "      <td>74014123.44</td>\n",
       "      <td>29720074.00</td>\n",
       "      <td>26961948.00</td>\n",
       "      <td>15811725.04</td>\n",
       "      <td>15682571.45</td>\n",
       "      <td>2046386.32</td>\n",
       "    </tr>\n",
       "  </tbody>\n",
       "</table>\n",
       "</div>"
      ],
      "text/plain": [
       "Continent              Asia  South America      Africa      Europe  \\\n",
       "1970 Population 35590784.79    13390535.58  6969879.85 13945879.17   \n",
       "1980 Population 43423636.49    16700197.33  9139807.92 14728110.76   \n",
       "1990 Population 52408451.47    20399536.92 12158419.56 15335326.54   \n",
       "2000 Population 59902972.09    23832618.17 15558198.27 15458519.15   \n",
       "2010 Population 66695706.81    26628926.67 19975819.02 15660596.24   \n",
       "2015 Population 70203359.07    27957079.33 22715954.10 15785573.39   \n",
       "2020 Population 73166475.70    29342410.67 25725500.10 15875241.48   \n",
       "2022 Population 74014123.44    29720074.00 26961948.00 15811725.04   \n",
       "\n",
       "Continent        North America    Oceania  \n",
       "1970 Population     8225963.82  884950.18  \n",
       "1980 Population     9606051.66 1041272.18  \n",
       "1990 Population    10989680.97 1214933.14  \n",
       "2000 Population    12687504.63 1418320.55  \n",
       "2010 Population    14173064.71 1685646.55  \n",
       "2015 Population    14898137.58 1835704.05  \n",
       "2020 Population    15523631.84 1996157.00  \n",
       "2022 Population    15682571.45 2046386.32  "
      ]
     },
     "execution_count": 52,
     "metadata": {},
     "output_type": "execute_result"
    }
   ],
   "source": [
    "#Dropping World Population Percentage column for better visualization\n",
    "df4=df3.drop(columns=['World Population Percentage'])\n",
    "\n",
    "# Transpose the dataframe for plotting\n",
    "df5=df4.transpose()\n",
    "df5"
   ]
  },
  {
   "cell_type": "code",
   "execution_count": 53,
   "id": "9e734313-7571-4dd9-bf21-2d705bf81ce5",
   "metadata": {},
   "outputs": [
    {
     "data": {
      "text/plain": [
       "<Figure size 1200x800 with 0 Axes>"
      ]
     },
     "metadata": {},
     "output_type": "display_data"
    },
    {
     "data": {
      "image/png": "[encoded data removed]",
      "text/plain": [
       "<Figure size 640x480 with 1 Axes>"
      ]
     },
     "metadata": {},
     "output_type": "display_data"
    }
   ],
   "source": [
    "# Plot the transposed data to show average population growth by continent\n",
    "plt.figure(figsize=(12, 8))  \n",
    "df5.plot()\n",
    "plt.title('Average Population Growth by Continent')\n",
    "plt.xlabel('Year')\n",
    "plt.ylabel('Population')\n",
    "plt.xticks(rotation=45) \n",
    "plt.show()"
   ]
  },
  {
   "cell_type": "markdown",
   "id": "c8e9bfd7-3329-452c-b957-34a25bcc2167",
   "metadata": {},
   "source": [
    "The graph illustrates the average population growth for different continents over a decade (from 1970 to 2022).\n",
    "\n",
    "The graph includes data for six continents: Asia, Africa, Europe, North America, South America, and Oceania.\n",
    "\n",
    "Asia shows the highest population growth, consistently increasing from 1970 to 2022.\r\n",
    "Africa also experiences significant growth, although slightly lower than Asia.Europe’s population shows a declining trend over the decade.e.\r\n",
    "North America and South America exhibit similar patterns, showing gradual growth.\r\n",
    "Oceania has the smallest population growth among the contine\n",
    "\n",
    "In summary, the graph provides insights into population dynamics across continents, highlighting variations in growth rates. Asia and Africa remain pivotal in shaping global population trends..nts."
   ]
  },
  {
   "cell_type": "code",
   "execution_count": 54,
   "id": "a0acb058-4ac2-4d2f-ac20-850f098622be",
   "metadata": {},
   "outputs": [
    {
     "data": {
      "image/png": "[encoded data removed]",
      "text/plain": [
       "<Figure size 2000x1000 with 1 Axes>"
      ]
     },
     "metadata": {},
     "output_type": "display_data"
    }
   ],
   "source": [
    "# Boxplot of population data over the years\n",
    "\n",
    "df2.boxplot(figsize=(20,10))\n",
    "plt.title('Boxplot of Populations over Years')\n",
    "plt.show()"
   ]
  },
  {
   "cell_type": "markdown",
   "id": "b008e308-caea-42c6-956f-b26c9e1d1141",
   "metadata": {},
   "source": [
    "THe box plot illustrate the there are some outlinears present in the population columns data,"
   ]
  },
  {
   "cell_type": "code",
   "execution_count": 55,
   "id": "7ffe5788-6dd9-4a87-baf1-e35dd3c44d75",
   "metadata": {},
   "outputs": [
    {
     "data": {
      "image/png": "[encoded data removed]",
      "text/plain": [
       "<Figure size 1000x800 with 1 Axes>"
      ]
     },
     "metadata": {},
     "output_type": "display_data"
    }
   ],
   "source": [
    "# Sum of populations by continent for  Year 2022\n",
    "continent_population_2022 = df2.groupby('Continent')['2022 Population'].sum().reset_index()\n",
    "\n",
    "# Pie chart showing population distribution by continent in 2022\n",
    "plt.figure(figsize=(10, 8))\n",
    "plt.pie(continent_population_2022['2022 Population'], labels=continent_population_2022['Continent'], autopct='%1.1f%%', startangle=140)\n",
    "plt.title('Population Distribution by Continent in 2022')\n",
    "plt.axis('equal')  # Equal aspect ratio ensures that pie is drawn as a circle.\n",
    "plt.show()\n"
   ]
  },
  {
   "cell_type": "markdown",
   "id": "5ca0c6c6-dffd-44dd-ae6a-399a654cdf37",
   "metadata": {},
   "source": [
    "The pie chart above illustrates the population distribution by continent in the year 2022. From the chart, we observe that Asia contributes 51.3% of the world’s population, followed by Africa at 20.9%. Europe accounts for 11.7%, while North and South America contribute 9.6% and 5.8%, respectively. The continent with the lowest population share is Oceania, representing only 0.7% of the world’s total population."
   ]
  },
  {
   "cell_type": "code",
   "execution_count": 56,
   "id": "f107ba83-7ad2-4862-922a-213608e81538",
   "metadata": {
    "scrolled": true
   },
   "outputs": [
    {
     "data": {
      "image/png": "[encoded data removed]",
      "text/plain": [
       "<Figure size 1200x800 with 1 Axes>"
      ]
     },
     "metadata": {},
     "output_type": "display_data"
    }
   ],
   "source": [
    "# Top 10 most populous countries in 2022\n",
    "top_10_countries_2022 = df.sort_values(by='2022 Population', ascending=False).head(10)\n",
    "\n",
    "# Bar plot showing the top 10 most populous countries in 2022\n",
    "plt.figure(figsize=(12, 8))\n",
    "sns.barplot(x='2022 Population', y='Country', data=top_10_countries_2022)\n",
    "plt.title('Top 10 Most Populous Countries in 2022')\n",
    "plt.xlabel('Population')\n",
    "plt.ylabel('Country')\n",
    "plt.show()\n"
   ]
  },
  {
   "cell_type": "markdown",
   "id": "41c6237c-48bc-4fc3-94de-3b5dcbe90e49",
   "metadata": {},
   "source": [
    "The bar chart illustrates the top 10 most populous countries in 2022. China and India each have populations exceeding 1 billion, while the United States surpasses 300 million. In contrast, Mexico has the lowest population, with over 100 million inhabitants"
   ]
  },
  {
   "cell_type": "code",
   "execution_count": 57,
   "id": "0256e9ae-354c-4dd5-babc-8d07e562c0e6",
   "metadata": {},
   "outputs": [
    {
     "data": {
      "application/vnd.plotly.v1+json": {
       "config": {
        "plotlyServerURL": "https://plot.ly"
       },
       "data": [
        {
         "coloraxis": "coloraxis",
         "geo": "geo",
         "hovertemplate": "<b>%{hovertext}</b><br><br>Country=%{location}<br>2022 Population=%{z}<extra></extra>",
         "hovertext": [
          "Afghanistan",
          "Albania",
          "Algeria",
          "American Samoa",
          "Andorra",
          "Angola",
          "Anguilla",
          "Antigua and Barbuda",
          "Argentina",
          "Armenia",
          "Aruba",
          "Australia",
          "Austria",
          "Azerbaijan",
          "Bahamas",
          "Bahrain",
          "Bangladesh",
          "Barbados",
          "Belarus",
          "Belgium",
          "Belize",
          "Benin",
          "Bermuda",
          "Bhutan",
          "Bolivia",
          "Bosnia and Herzegovina",
          "Botswana",
          "Brazil",
          "British Virgin Islands",
          "Brunei",
          "Bulgaria",
          "Burkina Faso",
          "Burundi",
          "Cambodia",
          "Cameroon",
          "Canada",
          "Cape Verde",
          "Cayman Islands",
          "Central African Republic",
          "Chad",
          "Chile",
          "China",
          "Colombia",
          "Comoros",
          "Cook Islands",
          "Costa Rica",
          "Croatia",
          "Cuba",
          "Curacao",
          "Cyprus",
          "Czech Republic",
          "Denmark",
          "Djibouti",
          "Dominica",
          "Dominican Republic",
          "DR Congo",
          "Ecuador",
          "Egypt",
          "El Salvador",
          "Equatorial Guinea",
          "Eritrea",
          "Estonia",
          "Eswatini",
          "Ethiopia",
          "Falkland Islands",
          "Faroe Islands",
          "Fiji",
          "Finland",
          "France",
          "French Guiana",
          "French Polynesia",
          "Gabon",
          "Gambia",
          "Georgia",
          "Germany",
          "Ghana",
          "Gibraltar",
          "Greece",
          "Greenland",
          "Grenada",
          "Guadeloupe",
          "Guam",
          "Guatemala",
          "Guernsey",
          "Guinea",
          "Guinea-Bissau",
          "Guyana",
          "Haiti",
          "Honduras",
          "Hong Kong",
          "Hungary",
          "Iceland",
          "India",
          "Indonesia",
          "Iran",
          "Iraq",
          "Ireland",
          "Isle of Man",
          "Israel",
          "Italy",
          "Ivory Coast",
          "Jamaica",
          "Japan",
          "Jersey",
          "Jordan",
          "Kazakhstan",
          "Kenya",
          "Kiribati",
          "Kuwait",
          "Kyrgyzstan",
          "Laos",
          "Latvia",
          "Lebanon",
          "Lesotho",
          "Liberia",
          "Libya",
          "Liechtenstein",
          "Lithuania",
          "Luxembourg",
          "Macau",
          "Madagascar",
          "Malawi",
          "Malaysia",
          "Maldives",
          "Mali",
          "Malta",
          "Marshall Islands",
          "Martinique",
          "Mauritania",
          "Mauritius",
          "Mayotte",
          "Mexico",
          "Micronesia",
          "Moldova",
          "Monaco",
          "Mongolia",
          "Montenegro",
          "Montserrat",
          "Morocco",
          "Mozambique",
          "Myanmar",
          "Namibia",
          "Nauru",
          "Nepal",
          "Netherlands",
          "New Caledonia",
          "New Zealand",
          "Nicaragua",
          "Niger",
          "Nigeria",
          "Niue",
          "North Korea",
          "North Macedonia",
          "Northern Mariana Islands",
          "Norway",
          "Oman",
          "Pakistan",
          "Palau",
          "Palestine",
          "Panama",
          "Papua New Guinea",
          "Paraguay",
          "Peru",
          "Philippines",
          "Poland",
          "Portugal",
          "Puerto Rico",
          "Qatar",
          "Republic of the Congo",
          "Reunion",
          "Romania",
          "Russia",
          "Rwanda",
          "Saint Barthelemy",
          "Saint Kitts and Nevis",
          "Saint Lucia",
          "Saint Martin",
          "Saint Pierre and Miquelon",
          "Saint Vincent and the Grenadines",
          "Samoa",
          "San Marino",
          "Sao Tome and Principe",
          "Saudi Arabia",
          "Senegal",
          "Serbia",
          "Seychelles",
          "Sierra Leone",
          "Singapore",
          "Sint Maarten",
          "Slovakia",
          "Slovenia",
          "Solomon Islands",
          "Somalia",
          "South Africa",
          "South Korea",
          "South Sudan",
          "Spain",
          "Sri Lanka",
          "Sudan",
          "Suriname",
          "Sweden",
          "Switzerland",
          "Syria",
          "Taiwan",
          "Tajikistan",
          "Tanzania",
          "Thailand",
          "Timor-Leste",
          "Togo",
          "Tokelau",
          "Tonga",
          "Trinidad and Tobago",
          "Tunisia",
          "Turkey",
          "Turkmenistan",
          "Turks and Caicos Islands",
          "Tuvalu",
          "Uganda",
          "Ukraine",
          "United Arab Emirates",
          "United Kingdom",
          "United States",
          "United States Virgin Islands",
          "Uruguay",
          "Uzbekistan",
          "Vanuatu",
          "Vatican City",
          "Venezuela",
          "Vietnam",
          "Wallis and Futuna",
          "Western Sahara",
          "Yemen",
          "Zambia",
          "Zimbabwe"
         ],
         "locationmode": "country names",
         "locations": [
          "Afghanistan",
          "Albania",
          "Algeria",
          "American Samoa",
          "Andorra",
          "Angola",
          "Anguilla",
          "Antigua and Barbuda",
          "Argentina",
          "Armenia",
          "Aruba",
          "Australia",
          "Austria",
          "Azerbaijan",
          "Bahamas",
          "Bahrain",
          "Bangladesh",
          "Barbados",
          "Belarus",
          "Belgium",
          "Belize",
          "Benin",
          "Bermuda",
          "Bhutan",
          "Bolivia",
          "Bosnia and Herzegovina",
          "Botswana",
          "Brazil",
          "British Virgin Islands",
          "Brunei",
          "Bulgaria",
          "Burkina Faso",
          "Burundi",
          "Cambodia",
          "Cameroon",
          "Canada",
          "Cape Verde",
          "Cayman Islands",
          "Central African Republic",
          "Chad",
          "Chile",
          "China",
          "Colombia",
          "Comoros",
          "Cook Islands",
          "Costa Rica",
          "Croatia",
          "Cuba",
          "Curacao",
          "Cyprus",
          "Czech Republic",
          "Denmark",
          "Djibouti",
          "Dominica",
          "Dominican Republic",
          "DR Congo",
          "Ecuador",
          "Egypt",
          "El Salvador",
          "Equatorial Guinea",
          "Eritrea",
          "Estonia",
          "Eswatini",
          "Ethiopia",
          "Falkland Islands",
          "Faroe Islands",
          "Fiji",
          "Finland",
          "France",
          "French Guiana",
          "French Polynesia",
          "Gabon",
          "Gambia",
          "Georgia",
          "Germany",
          "Ghana",
          "Gibraltar",
          "Greece",
          "Greenland",
          "Grenada",
          "Guadeloupe",
          "Guam",
          "Guatemala",
          "Guernsey",
          "Guinea",
          "Guinea-Bissau",
          "Guyana",
          "Haiti",
          "Honduras",
          "Hong Kong",
          "Hungary",
          "Iceland",
          "India",
          "Indonesia",
          "Iran",
          "Iraq",
          "Ireland",
          "Isle of Man",
          "Israel",
          "Italy",
          "Ivory Coast",
          "Jamaica",
          "Japan",
          "Jersey",
          "Jordan",
          "Kazakhstan",
          "Kenya",
          "Kiribati",
          "Kuwait",
          "Kyrgyzstan",
          "Laos",
          "Latvia",
          "Lebanon",
          "Lesotho",
          "Liberia",
          "Libya",
          "Liechtenstein",
          "Lithuania",
          "Luxembourg",
          "Macau",
          "Madagascar",
          "Malawi",
          "Malaysia",
          "Maldives",
          "Mali",
          "Malta",
          "Marshall Islands",
          "Martinique",
          "Mauritania",
          "Mauritius",
          "Mayotte",
          "Mexico",
          "Micronesia",
          "Moldova",
          "Monaco",
          "Mongolia",
          "Montenegro",
          "Montserrat",
          "Morocco",
          "Mozambique",
          "Myanmar",
          "Namibia",
          "Nauru",
          "Nepal",
          "Netherlands",
          "New Caledonia",
          "New Zealand",
          "Nicaragua",
          "Niger",
          "Nigeria",
          "Niue",
          "North Korea",
          "North Macedonia",
          "Northern Mariana Islands",
          "Norway",
          "Oman",
          "Pakistan",
          "Palau",
          "Palestine",
          "Panama",
          "Papua New Guinea",
          "Paraguay",
          "Peru",
          "Philippines",
          "Poland",
          "Portugal",
          "Puerto Rico",
          "Qatar",
          "Republic of the Congo",
          "Reunion",
          "Romania",
          "Russia",
          "Rwanda",
          "Saint Barthelemy",
          "Saint Kitts and Nevis",
          "Saint Lucia",
          "Saint Martin",
          "Saint Pierre and Miquelon",
          "Saint Vincent and the Grenadines",
          "Samoa",
          "San Marino",
          "Sao Tome and Principe",
          "Saudi Arabia",
          "Senegal",
          "Serbia",
          "Seychelles",
          "Sierra Leone",
          "Singapore",
          "Sint Maarten",
          "Slovakia",
          "Slovenia",
          "Solomon Islands",
          "Somalia",
          "South Africa",
          "South Korea",
          "South Sudan",
          "Spain",
          "Sri Lanka",
          "Sudan",
          "Suriname",
          "Sweden",
          "Switzerland",
          "Syria",
          "Taiwan",
          "Tajikistan",
          "Tanzania",
          "Thailand",
          "Timor-Leste",
          "Togo",
          "Tokelau",
          "Tonga",
          "Trinidad and Tobago",
          "Tunisia",
          "Turkey",
          "Turkmenistan",
          "Turks and Caicos Islands",
          "Tuvalu",
          "Uganda",
          "Ukraine",
          "United Arab Emirates",
          "United Kingdom",
          "United States",
          "United States Virgin Islands",
          "Uruguay",
          "Uzbekistan",
          "Vanuatu",
          "Vatican City",
          "Venezuela",
          "Vietnam",
          "Wallis and Futuna",
          "Western Sahara",
          "Yemen",
          "Zambia",
          "Zimbabwe"
         ],
         "name": "",
         "type": "choropleth",
         "z": [
          41128771,
          2842321,
          44903225,
          44273,
          79824,
          35588987,
          15857,
          93763,
          45510318,
          2780469,
          106445,
          26177413,
          8939617,
          10358074,
          409984,
          1472233,
          171186372,
          281635,
          9534954,
          11655930,
          405272,
          13352864,
          64184,
          782455,
          12224110,
          3233526,
          2630296,
          215313498,
          31305,
          449002,
          6781953,
          22673762,
          12889576,
          16767842,
          27914536,
          38454327,
          593149,
          68706,
          5579144,
          17723315,
          19603733,
          1425887337,
          51874024,
          836774,
          17011,
          5180829,
          4030358,
          11212191,
          191163,
          1251488,
          10493986,
          5882261,
          1120849,
          72737,
          11228821,
          99010212,
          18001000,
          110990103,
          6336392,
          1674908,
          3684032,
          1326062,
          null,
          123379924,
          3780,
          53090,
          929766,
          5540745,
          64626628,
          304557,
          306279,
          2388992,
          2705992,
          3744385,
          83369843,
          33475870,
          32649,
          10384971,
          56466,
          125438,
          395752,
          171774,
          17843908,
          63301,
          13859341,
          2105566,
          808726,
          11584996,
          10432860,
          7488865,
          9967308,
          372899,
          1417173173,
          275501339,
          88550570,
          44496122,
          5023109,
          84519,
          9038309,
          59037474,
          28160542,
          2827377,
          123951692,
          110778,
          11285869,
          19397998,
          54027487,
          131232,
          4268873,
          6630623,
          7529475,
          1850651,
          5489739,
          2305825,
          5302681,
          6812341,
          39327,
          2750055,
          647599,
          695168,
          29611714,
          20405317,
          33938221,
          523787,
          22593590,
          533286,
          41569,
          367507,
          4736139,
          1299469,
          326101,
          127504125,
          114164,
          3272996,
          36469,
          3398366,
          627082,
          4390,
          37457971,
          32969517,
          54179306,
          2567012,
          12668,
          30547580,
          17564014,
          289950,
          5185288,
          6948392,
          26207977,
          218541212,
          1934,
          26069416,
          2093599,
          49551,
          null,
          4576298,
          235824862,
          null,
          5250072,
          4408581,
          10142619,
          6780744,
          34049588,
          115559009,
          39857145,
          10270865,
          3252407,
          2695122,
          5970424,
          974052,
          19659267,
          144713314,
          13776698,
          10967,
          47657,
          179857,
          31791,
          5862,
          103948,
          222382,
          33660,
          227380,
          36408820,
          17316449,
          7221365,
          107118,
          8605718,
          5975689,
          44175,
          5643453,
          2119844,
          724273,
          17597511,
          59893885,
          51815810,
          10913164,
          47558630,
          21832143,
          46874204,
          618040,
          10549347,
          8740472,
          22125249,
          23893394,
          9952787,
          65497748,
          71697030,
          null,
          8848699,
          1871,
          106858,
          1531044,
          12356117,
          85341241,
          6430770,
          45703,
          11312,
          47249585,
          39701739,
          9441129,
          67508936,
          338289857,
          99465,
          3422794,
          34627652,
          326740,
          510,
          28301696,
          98186856,
          11572,
          575986,
          33696614,
          20017675,
          16320537
         ]
        }
       ],
       "layout": {
        "autosize": true,
        "coloraxis": {
         "colorbar": {
          "title": {
           "text": "2022 Population"
          }
         },
         "colorscale": [
          [
           0,
           "#440154"
          ],
          [
           0.1111111111111111,
           "#482878"
          ],
          [
           0.2222222222222222,
           "#3e4989"
          ],
          [
           0.3333333333333333,
           "#31688e"
          ],
          [
           0.4444444444444444,
           "#26828e"
          ],
          [
           0.5555555555555556,
           "#1f9e89"
          ],
          [
           0.6666666666666666,
           "#35b779"
          ],
          [
           0.7777777777777778,
           "#6ece58"
          ],
          [
           0.8888888888888888,
           "#b5de2b"
          ],
          [
           1,
           "#fde725"
          ]
         ]
        },
        "geo": {
         "center": {},
         "domain": {
          "x": [
           0,
           1
          ],
          "y": [
           0,
           1
          ]
         }
        },
        "legend": {
         "tracegroupgap": 0
        },
        "template": {
         "data": {
          "bar": [
           {
            "error_x": {
             "color": "#2a3f5f"
            },
            "error_y": {
             "color": "#2a3f5f"
            },
            "marker": {
             "line": {
              "color": "#E5ECF6",
              "width": 0.5
             },
             "pattern": {
              "fillmode": "overlay",
              "size": 10,
              "solidity": 0.2
             }
            },
            "type": "bar"
           }
          ],
          "barpolar": [
           {
            "marker": {
             "line": {
              "color": "#E5ECF6",
              "width": 0.5
             },
             "pattern": {
              "fillmode": "overlay",
              "size": 10,
              "solidity": 0.2
             }
            },
            "type": "barpolar"
           }
          ],
          "carpet": [
           {
            "aaxis": {
             "endlinecolor": "#2a3f5f",
             "gridcolor": "white",
             "linecolor": "white",
             "minorgridcolor": "white",
             "startlinecolor": "#2a3f5f"
            },
            "baxis": {
             "endlinecolor": "#2a3f5f",
             "gridcolor": "white",
             "linecolor": "white",
             "minorgridcolor": "white",
             "startlinecolor": "#2a3f5f"
            },
            "type": "carpet"
           }
          ],
          "choropleth": [
           {
            "colorbar": {
             "outlinewidth": 0,
             "ticks": ""
            },
            "type": "choropleth"
           }
          ],
          "contour": [
           {
            "colorbar": {
             "outlinewidth": 0,
             "ticks": ""
            },
            "colorscale": [
             [
              0,
              "#0d0887"
             ],
             [
              0.1111111111111111,
              "#46039f"
             ],
             [
              0.2222222222222222,
              "#7201a8"
             ],
             [
              0.3333333333333333,
              "#9c179e"
             ],
             [
              0.4444444444444444,
              "#bd3786"
             ],
             [
              0.5555555555555556,
              "#d8576b"
             ],
             [
              0.6666666666666666,
              "#ed7953"
             ],
             [
              0.7777777777777778,
              "#fb9f3a"
             ],
             [
              0.8888888888888888,
              "#fdca26"
             ],
             [
              1,
              "#f0f921"
             ]
            ],
            "type": "contour"
           }
          ],
          "contourcarpet": [
           {
            "colorbar": {
             "outlinewidth": 0,
             "ticks": ""
            },
            "type": "contourcarpet"
           }
          ],
          "heatmap": [
           {
            "colorbar": {
             "outlinewidth": 0,
             "ticks": ""
            },
            "colorscale": [
             [
              0,
              "#0d0887"
             ],
             [
              0.1111111111111111,
              "#46039f"
             ],
             [
              0.2222222222222222,
              "#7201a8"
             ],
             [
              0.3333333333333333,
              "#9c179e"
             ],
             [
              0.4444444444444444,
              "#bd3786"
             ],
             [
              0.5555555555555556,
              "#d8576b"
             ],
             [
              0.6666666666666666,
              "#ed7953"
             ],
             [
              0.7777777777777778,
              "#fb9f3a"
             ],
             [
              0.8888888888888888,
              "#fdca26"
             ],
             [
              1,
              "#f0f921"
             ]
            ],
            "type": "heatmap"
           }
          ],
          "heatmapgl": [
           {
            "colorbar": {
             "outlinewidth": 0,
             "ticks": ""
            },
            "colorscale": [
             [
              0,
              "#0d0887"
             ],
             [
              0.1111111111111111,
              "#46039f"
             ],
             [
              0.2222222222222222,
              "#7201a8"
             ],
             [
              0.3333333333333333,
              "#9c179e"
             ],
             [
              0.4444444444444444,
              "#bd3786"
             ],
             [
              0.5555555555555556,
              "#d8576b"
             ],
             [
              0.6666666666666666,
              "#ed7953"
             ],
             [
              0.7777777777777778,
              "#fb9f3a"
             ],
             [
              0.8888888888888888,
              "#fdca26"
             ],
             [
              1,
              "#f0f921"
             ]
            ],
            "type": "heatmapgl"
           }
          ],
          "histogram": [
           {
            "marker": {
             "pattern": {
              "fillmode": "overlay",
              "size": 10,
              "solidity": 0.2
             }
            },
            "type": "histogram"
           }
          ],
          "histogram2d": [
           {
            "colorbar": {
             "outlinewidth": 0,
             "ticks": ""
            },
            "colorscale": [
             [
              0,
              "#0d0887"
             ],
             [
              0.1111111111111111,
              "#46039f"
             ],
             [
              0.2222222222222222,
              "#7201a8"
             ],
             [
              0.3333333333333333,
              "#9c179e"
             ],
             [
              0.4444444444444444,
              "#bd3786"
             ],
             [
              0.5555555555555556,
              "#d8576b"
             ],
             [
              0.6666666666666666,
              "#ed7953"
             ],
             [
              0.7777777777777778,
              "#fb9f3a"
             ],
             [
              0.8888888888888888,
              "#fdca26"
             ],
             [
              1,
              "#f0f921"
             ]
            ],
            "type": "histogram2d"
           }
          ],
          "histogram2dcontour": [
           {
            "colorbar": {
             "outlinewidth": 0,
             "ticks": ""
            },
            "colorscale": [
             [
              0,
              "#0d0887"
             ],
             [
              0.1111111111111111,
              "#46039f"
             ],
             [
              0.2222222222222222,
              "#7201a8"
             ],
             [
              0.3333333333333333,
              "#9c179e"
             ],
             [
              0.4444444444444444,
              "#bd3786"
             ],
             [
              0.5555555555555556,
              "#d8576b"
             ],
             [
              0.6666666666666666,
              "#ed7953"
             ],
             [
              0.7777777777777778,
              "#fb9f3a"
             ],
             [
              0.8888888888888888,
              "#fdca26"
             ],
             [
              1,
              "#f0f921"
             ]
            ],
            "type": "histogram2dcontour"
           }
          ],
          "mesh3d": [
           {
            "colorbar": {
             "outlinewidth": 0,
             "ticks": ""
            },
            "type": "mesh3d"
           }
          ],
          "parcoords": [
           {
            "line": {
             "colorbar": {
              "outlinewidth": 0,
              "ticks": ""
             }
            },
            "type": "parcoords"
           }
          ],
          "pie": [
           {
            "automargin": true,
            "type": "pie"
           }
          ],
          "scatter": [
           {
            "fillpattern": {
             "fillmode": "overlay",
             "size": 10,
             "solidity": 0.2
            },
            "type": "scatter"
           }
          ],
          "scatter3d": [
           {
            "line": {
             "colorbar": {
              "outlinewidth": 0,
              "ticks": ""
             }
            },
            "marker": {
             "colorbar": {
              "outlinewidth": 0,
              "ticks": ""
             }
            },
            "type": "scatter3d"
           }
          ],
          "scattercarpet": [
           {
            "marker": {
             "colorbar": {
              "outlinewidth": 0,
              "ticks": ""
             }
            },
            "type": "scattercarpet"
           }
          ],
          "scattergeo": [
           {
            "marker": {
             "colorbar": {
              "outlinewidth": 0,
              "ticks": ""
             }
            },
            "type": "scattergeo"
           }
          ],
          "scattergl": [
           {
            "marker": {
             "colorbar": {
              "outlinewidth": 0,
              "ticks": ""
             }
            },
            "type": "scattergl"
           }
          ],
          "scattermapbox": [
           {
            "marker": {
             "colorbar": {
              "outlinewidth": 0,
              "ticks": ""
             }
            },
            "type": "scattermapbox"
           }
          ],
          "scatterpolar": [
           {
            "marker": {
             "colorbar": {
              "outlinewidth": 0,
              "ticks": ""
             }
            },
            "type": "scatterpolar"
           }
          ],
          "scatterpolargl": [
           {
            "marker": {
             "colorbar": {
              "outlinewidth": 0,
              "ticks": ""
             }
            },
            "type": "scatterpolargl"
           }
          ],
          "scatterternary": [
           {
            "marker": {
             "colorbar": {
              "outlinewidth": 0,
              "ticks": ""
             }
            },
            "type": "scatterternary"
           }
          ],
          "surface": [
           {
            "colorbar": {
             "outlinewidth": 0,
             "ticks": ""
            },
            "colorscale": [
             [
              0,
              "#0d0887"
             ],
             [
              0.1111111111111111,
              "#46039f"
             ],
             [
              0.2222222222222222,
              "#7201a8"
             ],
             [
              0.3333333333333333,
              "#9c179e"
             ],
             [
              0.4444444444444444,
              "#bd3786"
             ],
             [
              0.5555555555555556,
              "#d8576b"
             ],
             [
              0.6666666666666666,
              "#ed7953"
             ],
             [
              0.7777777777777778,
              "#fb9f3a"
             ],
             [
              0.8888888888888888,
              "#fdca26"
             ],
             [
              1,
              "#f0f921"
             ]
            ],
            "type": "surface"
           }
          ],
          "table": [
           {
            "cells": {
             "fill": {
              "color": "#EBF0F8"
             },
             "line": {
              "color": "white"
             }
            },
            "header": {
             "fill": {
              "color": "#C8D4E3"
             },
             "line": {
              "color": "white"
             }
            },
            "type": "table"
           }
          ]
         },
         "layout": {
          "annotationdefaults": {
           "arrowcolor": "#2a3f5f",
           "arrowhead": 0,
           "arrowwidth": 1
          },
          "autotypenumbers": "strict",
          "coloraxis": {
           "colorbar": {
            "outlinewidth": 0,
            "ticks": ""
           }
          },
          "colorscale": {
           "diverging": [
            [
             0,
             "#8e0152"
            ],
            [
             0.1,
             "#c51b7d"
            ],
            [
             0.2,
             "#de77ae"
            ],
            [
             0.3,
             "#f1b6da"
            ],
            [
             0.4,
             "#fde0ef"
            ],
            [
             0.5,
             "#f7f7f7"
            ],
            [
             0.6,
             "#e6f5d0"
            ],
            [
             0.7,
             "#b8e186"
            ],
            [
             0.8,
             "#7fbc41"
            ],
            [
             0.9,
             "#4d9221"
            ],
            [
             1,
             "#276419"
            ]
           ],
           "sequential": [
            [
             0,
             "#0d0887"
            ],
            [
             0.1111111111111111,
             "#46039f"
            ],
            [
             0.2222222222222222,
             "#7201a8"
            ],
            [
             0.3333333333333333,
             "#9c179e"
            ],
            [
             0.4444444444444444,
             "#bd3786"
            ],
            [
             0.5555555555555556,
             "#d8576b"
            ],
            [
             0.6666666666666666,
             "#ed7953"
            ],
            [
             0.7777777777777778,
             "#fb9f3a"
            ],
            [
             0.8888888888888888,
             "#fdca26"
            ],
            [
             1,
             "#f0f921"
            ]
           ],
           "sequentialminus": [
            [
             0,
             "#0d0887"
            ],
            [
             0.1111111111111111,
             "#46039f"
            ],
            [
             0.2222222222222222,
             "#7201a8"
            ],
            [
             0.3333333333333333,
             "#9c179e"
            ],
            [
             0.4444444444444444,
             "#bd3786"
            ],
            [
             0.5555555555555556,
             "#d8576b"
            ],
            [
             0.6666666666666666,
             "#ed7953"
            ],
            [
             0.7777777777777778,
             "#fb9f3a"
            ],
            [
             0.8888888888888888,
             "#fdca26"
            ],
            [
             1,
             "#f0f921"
            ]
           ]
          },
          "colorway": [
           "#636efa",
           "#EF553B",
           "#00cc96",
           "#ab63fa",
           "#FFA15A",
           "#19d3f3",
           "#FF6692",
           "#B6E880",
           "#FF97FF",
           "#FECB52"
          ],
          "font": {
           "color": "#2a3f5f"
          },
          "geo": {
           "bgcolor": "white",
           "lakecolor": "white",
           "landcolor": "#E5ECF6",
           "showlakes": true,
           "showland": true,
           "subunitcolor": "white"
          },
          "hoverlabel": {
           "align": "left"
          },
          "hovermode": "closest",
          "mapbox": {
           "style": "light"
          },
          "paper_bgcolor": "white",
          "plot_bgcolor": "#E5ECF6",
          "polar": {
           "angularaxis": {
            "gridcolor": "white",
            "linecolor": "white",
            "ticks": ""
           },
           "bgcolor": "#E5ECF6",
           "radialaxis": {
            "gridcolor": "white",
            "linecolor": "white",
            "ticks": ""
           }
          },
          "scene": {
           "xaxis": {
            "backgroundcolor": "#E5ECF6",
            "gridcolor": "white",
            "gridwidth": 2,
            "linecolor": "white",
            "showbackground": true,
            "ticks": "",
            "zerolinecolor": "white"
           },
           "yaxis": {
            "backgroundcolor": "#E5ECF6",
            "gridcolor": "white",
            "gridwidth": 2,
            "linecolor": "white",
            "showbackground": true,
            "ticks": "",
            "zerolinecolor": "white"
           },
           "zaxis": {
            "backgroundcolor": "#E5ECF6",
            "gridcolor": "white",
            "gridwidth": 2,
            "linecolor": "white",
            "showbackground": true,
            "ticks": "",
            "zerolinecolor": "white"
           }
          },
          "shapedefaults": {
           "line": {
            "color": "#2a3f5f"
           }
          },
          "ternary": {
           "aaxis": {
            "gridcolor": "white",
            "linecolor": "white",
            "ticks": ""
           },
           "baxis": {
            "gridcolor": "white",
            "linecolor": "white",
            "ticks": ""
           },
           "bgcolor": "#E5ECF6",
           "caxis": {
            "gridcolor": "white",
            "linecolor": "white",
            "ticks": ""
           }
          },
          "title": {
           "x": 0.05
          },
          "xaxis": {
           "automargin": true,
           "gridcolor": "white",
           "linecolor": "white",
           "ticks": "",
           "title": {
            "standoff": 15
           },
           "zerolinecolor": "white",
           "zerolinewidth": 2
          },
          "yaxis": {
           "automargin": true,
           "gridcolor": "white",
           "linecolor": "white",
           "ticks": "",
           "title": {
            "standoff": 15
           },
           "zerolinecolor": "white",
           "zerolinewidth": 2
          }
         }
        },
        "title": {
         "text": "Population Density by Country in 2022"
        }
       }
      },
      "image/png": "[encoded data removed]",
      "text/html": [
       "<div>                            <div id=\"9aab5270-fa78-468e-9328-191ae2145d5d\" class=\"plotly-graph-div\" style=\"height:525px; width:100%;\"></div>            <script type=\"text/javascript\">                require([\"plotly\"], function(Plotly) {                    window.PLOTLYENV=window.PLOTLYENV || {};                                    if (document.getElementById(\"9aab5270-fa78-468e-9328-191ae2145d5d\")) {                    Plotly.newPlot(                        \"9aab5270-fa78-468e-9328-191ae2145d5d\",                        [{\"coloraxis\":\"coloraxis\",\"geo\":\"geo\",\"hovertemplate\":\"<b>%{hovertext}</b><br><br>Country=%{location}<br>2022 Population=%{z}<extra></extra>\",\"hovertext\":[\"Afghanistan\",\"Albania\",\"Algeria\",\"American Samoa\",\"Andorra\",\"Angola\",\"Anguilla\",\"Antigua and Barbuda\",\"Argentina\",\"Armenia\",\"Aruba\",\"Australia\",\"Austria\",\"Azerbaijan\",\"Bahamas\",\"Bahrain\",\"Bangladesh\",\"Barbados\",\"Belarus\",\"Belgium\",\"Belize\",\"Benin\",\"Bermuda\",\"Bhutan\",\"Bolivia\",\"Bosnia and Herzegovina\",\"Botswana\",\"Brazil\",\"British Virgin Islands\",\"Brunei\",\"Bulgaria\",\"Burkina Faso\",\"Burundi\",\"Cambodia\",\"Cameroon\",\"Canada\",\"Cape Verde\",\"Cayman Islands\",\"Central African Republic\",\"Chad\",\"Chile\",\"China\",\"Colombia\",\"Comoros\",\"Cook Islands\",\"Costa Rica\",\"Croatia\",\"Cuba\",\"Curacao\",\"Cyprus\",\"Czech Republic\",\"Denmark\",\"Djibouti\",\"Dominica\",\"Dominican Republic\",\"DR Congo\",\"Ecuador\",\"Egypt\",\"El Salvador\",\"Equatorial Guinea\",\"Eritrea\",\"Estonia\",\"Eswatini\",\"Ethiopia\",\"Falkland Islands\",\"Faroe Islands\",\"Fiji\",\"Finland\",\"France\",\"French Guiana\",\"French Polynesia\",\"Gabon\",\"Gambia\",\"Georgia\",\"Germany\",\"Ghana\",\"Gibraltar\",\"Greece\",\"Greenland\",\"Grenada\",\"Guadeloupe\",\"Guam\",\"Guatemala\",\"Guernsey\",\"Guinea\",\"Guinea-Bissau\",\"Guyana\",\"Haiti\",\"Honduras\",\"Hong Kong\",\"Hungary\",\"Iceland\",\"India\",\"Indonesia\",\"Iran\",\"Iraq\",\"Ireland\",\"Isle of Man\",\"Israel\",\"Italy\",\"Ivory Coast\",\"Jamaica\",\"Japan\",\"Jersey\",\"Jordan\",\"Kazakhstan\",\"Kenya\",\"Kiribati\",\"Kuwait\",\"Kyrgyzstan\",\"Laos\",\"Latvia\",\"Lebanon\",\"Lesotho\",\"Liberia\",\"Libya\",\"Liechtenstein\",\"Lithuania\",\"Luxembourg\",\"Macau\",\"Madagascar\",\"Malawi\",\"Malaysia\",\"Maldives\",\"Mali\",\"Malta\",\"Marshall Islands\",\"Martinique\",\"Mauritania\",\"Mauritius\",\"Mayotte\",\"Mexico\",\"Micronesia\",\"Moldova\",\"Monaco\",\"Mongolia\",\"Montenegro\",\"Montserrat\",\"Morocco\",\"Mozambique\",\"Myanmar\",\"Namibia\",\"Nauru\",\"Nepal\",\"Netherlands\",\"New Caledonia\",\"New Zealand\",\"Nicaragua\",\"Niger\",\"Nigeria\",\"Niue\",\"North Korea\",\"North Macedonia\",\"Northern Mariana Islands\",\"Norway\",\"Oman\",\"Pakistan\",\"Palau\",\"Palestine\",\"Panama\",\"Papua New Guinea\",\"Paraguay\",\"Peru\",\"Philippines\",\"Poland\",\"Portugal\",\"Puerto Rico\",\"Qatar\",\"Republic of the Congo\",\"Reunion\",\"Romania\",\"Russia\",\"Rwanda\",\"Saint Barthelemy\",\"Saint Kitts and Nevis\",\"Saint Lucia\",\"Saint Martin\",\"Saint Pierre and Miquelon\",\"Saint Vincent and the Grenadines\",\"Samoa\",\"San Marino\",\"Sao Tome and Principe\",\"Saudi Arabia\",\"Senegal\",\"Serbia\",\"Seychelles\",\"Sierra Leone\",\"Singapore\",\"Sint Maarten\",\"Slovakia\",\"Slovenia\",\"Solomon Islands\",\"Somalia\",\"South Africa\",\"South Korea\",\"South Sudan\",\"Spain\",\"Sri Lanka\",\"Sudan\",\"Suriname\",\"Sweden\",\"Switzerland\",\"Syria\",\"Taiwan\",\"Tajikistan\",\"Tanzania\",\"Thailand\",\"Timor-Leste\",\"Togo\",\"Tokelau\",\"Tonga\",\"Trinidad and Tobago\",\"Tunisia\",\"Turkey\",\"Turkmenistan\",\"Turks and Caicos Islands\",\"Tuvalu\",\"Uganda\",\"Ukraine\",\"United Arab Emirates\",\"United Kingdom\",\"United States\",\"United States Virgin Islands\",\"Uruguay\",\"Uzbekistan\",\"Vanuatu\",\"Vatican City\",\"Venezuela\",\"Vietnam\",\"Wallis and Futuna\",\"Western Sahara\",\"Yemen\",\"Zambia\",\"Zimbabwe\"],\"locationmode\":\"country names\",\"locations\":[\"Afghanistan\",\"Albania\",\"Algeria\",\"American Samoa\",\"Andorra\",\"Angola\",\"Anguilla\",\"Antigua and Barbuda\",\"Argentina\",\"Armenia\",\"Aruba\",\"Australia\",\"Austria\",\"Azerbaijan\",\"Bahamas\",\"Bahrain\",\"Bangladesh\",\"Barbados\",\"Belarus\",\"Belgium\",\"Belize\",\"Benin\",\"Bermuda\",\"Bhutan\",\"Bolivia\",\"Bosnia and Herzegovina\",\"Botswana\",\"Brazil\",\"British Virgin Islands\",\"Brunei\",\"Bulgaria\",\"Burkina Faso\",\"Burundi\",\"Cambodia\",\"Cameroon\",\"Canada\",\"Cape Verde\",\"Cayman Islands\",\"Central African Republic\",\"Chad\",\"Chile\",\"China\",\"Colombia\",\"Comoros\",\"Cook Islands\",\"Costa Rica\",\"Croatia\",\"Cuba\",\"Curacao\",\"Cyprus\",\"Czech Republic\",\"Denmark\",\"Djibouti\",\"Dominica\",\"Dominican Republic\",\"DR Congo\",\"Ecuador\",\"Egypt\",\"El Salvador\",\"Equatorial Guinea\",\"Eritrea\",\"Estonia\",\"Eswatini\",\"Ethiopia\",\"Falkland Islands\",\"Faroe Islands\",\"Fiji\",\"Finland\",\"France\",\"French Guiana\",\"French Polynesia\",\"Gabon\",\"Gambia\",\"Georgia\",\"Germany\",\"Ghana\",\"Gibraltar\",\"Greece\",\"Greenland\",\"Grenada\",\"Guadeloupe\",\"Guam\",\"Guatemala\",\"Guernsey\",\"Guinea\",\"Guinea-Bissau\",\"Guyana\",\"Haiti\",\"Honduras\",\"Hong Kong\",\"Hungary\",\"Iceland\",\"India\",\"Indonesia\",\"Iran\",\"Iraq\",\"Ireland\",\"Isle of Man\",\"Israel\",\"Italy\",\"Ivory Coast\",\"Jamaica\",\"Japan\",\"Jersey\",\"Jordan\",\"Kazakhstan\",\"Kenya\",\"Kiribati\",\"Kuwait\",\"Kyrgyzstan\",\"Laos\",\"Latvia\",\"Lebanon\",\"Lesotho\",\"Liberia\",\"Libya\",\"Liechtenstein\",\"Lithuania\",\"Luxembourg\",\"Macau\",\"Madagascar\",\"Malawi\",\"Malaysia\",\"Maldives\",\"Mali\",\"Malta\",\"Marshall Islands\",\"Martinique\",\"Mauritania\",\"Mauritius\",\"Mayotte\",\"Mexico\",\"Micronesia\",\"Moldova\",\"Monaco\",\"Mongolia\",\"Montenegro\",\"Montserrat\",\"Morocco\",\"Mozambique\",\"Myanmar\",\"Namibia\",\"Nauru\",\"Nepal\",\"Netherlands\",\"New Caledonia\",\"New Zealand\",\"Nicaragua\",\"Niger\",\"Nigeria\",\"Niue\",\"North Korea\",\"North Macedonia\",\"Northern Mariana Islands\",\"Norway\",\"Oman\",\"Pakistan\",\"Palau\",\"Palestine\",\"Panama\",\"Papua New Guinea\",\"Paraguay\",\"Peru\",\"Philippines\",\"Poland\",\"Portugal\",\"Puerto Rico\",\"Qatar\",\"Republic of the Congo\",\"Reunion\",\"Romania\",\"Russia\",\"Rwanda\",\"Saint Barthelemy\",\"Saint Kitts and Nevis\",\"Saint Lucia\",\"Saint Martin\",\"Saint Pierre and Miquelon\",\"Saint Vincent and the Grenadines\",\"Samoa\",\"San Marino\",\"Sao Tome and Principe\",\"Saudi Arabia\",\"Senegal\",\"Serbia\",\"Seychelles\",\"Sierra Leone\",\"Singapore\",\"Sint Maarten\",\"Slovakia\",\"Slovenia\",\"Solomon Islands\",\"Somalia\",\"South Africa\",\"South Korea\",\"South Sudan\",\"Spain\",\"Sri Lanka\",\"Sudan\",\"Suriname\",\"Sweden\",\"Switzerland\",\"Syria\",\"Taiwan\",\"Tajikistan\",\"Tanzania\",\"Thailand\",\"Timor-Leste\",\"Togo\",\"Tokelau\",\"Tonga\",\"Trinidad and Tobago\",\"Tunisia\",\"Turkey\",\"Turkmenistan\",\"Turks and Caicos Islands\",\"Tuvalu\",\"Uganda\",\"Ukraine\",\"United Arab Emirates\",\"United Kingdom\",\"United States\",\"United States Virgin Islands\",\"Uruguay\",\"Uzbekistan\",\"Vanuatu\",\"Vatican City\",\"Venezuela\",\"Vietnam\",\"Wallis and Futuna\",\"Western Sahara\",\"Yemen\",\"Zambia\",\"Zimbabwe\"],\"name\":\"\",\"z\":[41128771.0,2842321.0,44903225.0,44273.0,79824.0,35588987.0,15857.0,93763.0,45510318.0,2780469.0,106445.0,26177413.0,8939617.0,10358074.0,409984.0,1472233.0,171186372.0,281635.0,9534954.0,11655930.0,405272.0,13352864.0,64184.0,782455.0,12224110.0,3233526.0,2630296.0,215313498.0,31305.0,449002.0,6781953.0,22673762.0,12889576.0,16767842.0,27914536.0,38454327.0,593149.0,68706.0,5579144.0,17723315.0,19603733.0,1425887337.0,51874024.0,836774.0,17011.0,5180829.0,4030358.0,11212191.0,191163.0,1251488.0,10493986.0,5882261.0,1120849.0,72737.0,11228821.0,99010212.0,18001000.0,110990103.0,6336392.0,1674908.0,3684032.0,1326062.0,null,123379924.0,3780.0,53090.0,929766.0,5540745.0,64626628.0,304557.0,306279.0,2388992.0,2705992.0,3744385.0,83369843.0,33475870.0,32649.0,10384971.0,56466.0,125438.0,395752.0,171774.0,17843908.0,63301.0,13859341.0,2105566.0,808726.0,11584996.0,10432860.0,7488865.0,9967308.0,372899.0,1417173173.0,275501339.0,88550570.0,44496122.0,5023109.0,84519.0,9038309.0,59037474.0,28160542.0,2827377.0,123951692.0,110778.0,11285869.0,19397998.0,54027487.0,131232.0,4268873.0,6630623.0,7529475.0,1850651.0,5489739.0,2305825.0,5302681.0,6812341.0,39327.0,2750055.0,647599.0,695168.0,29611714.0,20405317.0,33938221.0,523787.0,22593590.0,533286.0,41569.0,367507.0,4736139.0,1299469.0,326101.0,127504125.0,114164.0,3272996.0,36469.0,3398366.0,627082.0,4390.0,37457971.0,32969517.0,54179306.0,2567012.0,12668.0,30547580.0,17564014.0,289950.0,5185288.0,6948392.0,26207977.0,218541212.0,1934.0,26069416.0,2093599.0,49551.0,null,4576298.0,235824862.0,null,5250072.0,4408581.0,10142619.0,6780744.0,34049588.0,115559009.0,39857145.0,10270865.0,3252407.0,2695122.0,5970424.0,974052.0,19659267.0,144713314.0,13776698.0,10967.0,47657.0,179857.0,31791.0,5862.0,103948.0,222382.0,33660.0,227380.0,36408820.0,17316449.0,7221365.0,107118.0,8605718.0,5975689.0,44175.0,5643453.0,2119844.0,724273.0,17597511.0,59893885.0,51815810.0,10913164.0,47558630.0,21832143.0,46874204.0,618040.0,10549347.0,8740472.0,22125249.0,23893394.0,9952787.0,65497748.0,71697030.0,null,8848699.0,1871.0,106858.0,1531044.0,12356117.0,85341241.0,6430770.0,45703.0,11312.0,47249585.0,39701739.0,9441129.0,67508936.0,338289857.0,99465.0,3422794.0,34627652.0,326740.0,510.0,28301696.0,98186856.0,11572.0,575986.0,33696614.0,20017675.0,16320537.0],\"type\":\"choropleth\"}],                        {\"template\":{\"data\":{\"histogram2dcontour\":[{\"type\":\"histogram2dcontour\",\"colorbar\":{\"outlinewidth\":0,\"ticks\":\"\"},\"colorscale\":[[0.0,\"#0d0887\"],[0.1111111111111111,\"#46039f\"],[0.2222222222222222,\"#7201a8\"],[0.3333333333333333,\"#9c179e\"],[0.4444444444444444,\"#bd3786\"],[0.5555555555555556,\"#d8576b\"],[0.6666666666666666,\"#ed7953\"],[0.7777777777777778,\"#fb9f3a\"],[0.8888888888888888,\"#fdca26\"],[1.0,\"#f0f921\"]]}],\"choropleth\":[{\"type\":\"choropleth\",\"colorbar\":{\"outlinewidth\":0,\"ticks\":\"\"}}],\"histogram2d\":[{\"type\":\"histogram2d\",\"colorbar\":{\"outlinewidth\":0,\"ticks\":\"\"},\"colorscale\":[[0.0,\"#0d0887\"],[0.1111111111111111,\"#46039f\"],[0.2222222222222222,\"#7201a8\"],[0.3333333333333333,\"#9c179e\"],[0.4444444444444444,\"#bd3786\"],[0.5555555555555556,\"#d8576b\"],[0.6666666666666666,\"#ed7953\"],[0.7777777777777778,\"#fb9f3a\"],[0.8888888888888888,\"#fdca26\"],[1.0,\"#f0f921\"]]}],\"heatmap\":[{\"type\":\"heatmap\",\"colorbar\":{\"outlinewidth\":0,\"ticks\":\"\"},\"colorscale\":[[0.0,\"#0d0887\"],[0.1111111111111111,\"#46039f\"],[0.2222222222222222,\"#7201a8\"],[0.3333333333333333,\"#9c179e\"],[0.4444444444444444,\"#bd3786\"],[0.5555555555555556,\"#d8576b\"],[0.6666666666666666,\"#ed7953\"],[0.7777777777777778,\"#fb9f3a\"],[0.8888888888888888,\"#fdca26\"],[1.0,\"#f0f921\"]]}],\"heatmapgl\":[{\"type\":\"heatmapgl\",\"colorbar\":{\"outlinewidth\":0,\"ticks\":\"\"},\"colorscale\":[[0.0,\"#0d0887\"],[0.1111111111111111,\"#46039f\"],[0.2222222222222222,\"#7201a8\"],[0.3333333333333333,\"#9c179e\"],[0.4444444444444444,\"#bd3786\"],[0.5555555555555556,\"#d8576b\"],[0.6666666666666666,\"#ed7953\"],[0.7777777777777778,\"#fb9f3a\"],[0.8888888888888888,\"#fdca26\"],[1.0,\"#f0f921\"]]}],\"contourcarpet\":[{\"type\":\"contourcarpet\",\"colorbar\":{\"outlinewidth\":0,\"ticks\":\"\"}}],\"contour\":[{\"type\":\"contour\",\"colorbar\":{\"outlinewidth\":0,\"ticks\":\"\"},\"colorscale\":[[0.0,\"#0d0887\"],[0.1111111111111111,\"#46039f\"],[0.2222222222222222,\"#7201a8\"],[0.3333333333333333,\"#9c179e\"],[0.4444444444444444,\"#bd3786\"],[0.5555555555555556,\"#d8576b\"],[0.6666666666666666,\"#ed7953\"],[0.7777777777777778,\"#fb9f3a\"],[0.8888888888888888,\"#fdca26\"],[1.0,\"#f0f921\"]]}],\"surface\":[{\"type\":\"surface\",\"colorbar\":{\"outlinewidth\":0,\"ticks\":\"\"},\"colorscale\":[[0.0,\"#0d0887\"],[0.1111111111111111,\"#46039f\"],[0.2222222222222222,\"#7201a8\"],[0.3333333333333333,\"#9c179e\"],[0.4444444444444444,\"#bd3786\"],[0.5555555555555556,\"#d8576b\"],[0.6666666666666666,\"#ed7953\"],[0.7777777777777778,\"#fb9f3a\"],[0.8888888888888888,\"#fdca26\"],[1.0,\"#f0f921\"]]}],\"mesh3d\":[{\"type\":\"mesh3d\",\"colorbar\":{\"outlinewidth\":0,\"ticks\":\"\"}}],\"scatter\":[{\"fillpattern\":{\"fillmode\":\"overlay\",\"size\":10,\"solidity\":0.2},\"type\":\"scatter\"}],\"parcoords\":[{\"type\":\"parcoords\",\"line\":{\"colorbar\":{\"outlinewidth\":0,\"ticks\":\"\"}}}],\"scatterpolargl\":[{\"type\":\"scatterpolargl\",\"marker\":{\"colorbar\":{\"outlinewidth\":0,\"ticks\":\"\"}}}],\"bar\":[{\"error_x\":{\"color\":\"#2a3f5f\"},\"error_y\":{\"color\":\"#2a3f5f\"},\"marker\":{\"line\":{\"color\":\"#E5ECF6\",\"width\":0.5},\"pattern\":{\"fillmode\":\"overlay\",\"size\":10,\"solidity\":0.2}},\"type\":\"bar\"}],\"scattergeo\":[{\"type\":\"scattergeo\",\"marker\":{\"colorbar\":{\"outlinewidth\":0,\"ticks\":\"\"}}}],\"scatterpolar\":[{\"type\":\"scatterpolar\",\"marker\":{\"colorbar\":{\"outlinewidth\":0,\"ticks\":\"\"}}}],\"histogram\":[{\"marker\":{\"pattern\":{\"fillmode\":\"overlay\",\"size\":10,\"solidity\":0.2}},\"type\":\"histogram\"}],\"scattergl\":[{\"type\":\"scattergl\",\"marker\":{\"colorbar\":{\"outlinewidth\":0,\"ticks\":\"\"}}}],\"scatter3d\":[{\"type\":\"scatter3d\",\"line\":{\"colorbar\":{\"outlinewidth\":0,\"ticks\":\"\"}},\"marker\":{\"colorbar\":{\"outlinewidth\":0,\"ticks\":\"\"}}}],\"scattermapbox\":[{\"type\":\"scattermapbox\",\"marker\":{\"colorbar\":{\"outlinewidth\":0,\"ticks\":\"\"}}}],\"scatterternary\":[{\"type\":\"scatterternary\",\"marker\":{\"colorbar\":{\"outlinewidth\":0,\"ticks\":\"\"}}}],\"scattercarpet\":[{\"type\":\"scattercarpet\",\"marker\":{\"colorbar\":{\"outlinewidth\":0,\"ticks\":\"\"}}}],\"carpet\":[{\"aaxis\":{\"endlinecolor\":\"#2a3f5f\",\"gridcolor\":\"white\",\"linecolor\":\"white\",\"minorgridcolor\":\"white\",\"startlinecolor\":\"#2a3f5f\"},\"baxis\":{\"endlinecolor\":\"#2a3f5f\",\"gridcolor\":\"white\",\"linecolor\":\"white\",\"minorgridcolor\":\"white\",\"startlinecolor\":\"#2a3f5f\"},\"type\":\"carpet\"}],\"table\":[{\"cells\":{\"fill\":{\"color\":\"#EBF0F8\"},\"line\":{\"color\":\"white\"}},\"header\":{\"fill\":{\"color\":\"#C8D4E3\"},\"line\":{\"color\":\"white\"}},\"type\":\"table\"}],\"barpolar\":[{\"marker\":{\"line\":{\"color\":\"#E5ECF6\",\"width\":0.5},\"pattern\":{\"fillmode\":\"overlay\",\"size\":10,\"solidity\":0.2}},\"type\":\"barpolar\"}],\"pie\":[{\"automargin\":true,\"type\":\"pie\"}]},\"layout\":{\"autotypenumbers\":\"strict\",\"colorway\":[\"#636efa\",\"#EF553B\",\"#00cc96\",\"#ab63fa\",\"#FFA15A\",\"#19d3f3\",\"#FF6692\",\"#B6E880\",\"#FF97FF\",\"#FECB52\"],\"font\":{\"color\":\"#2a3f5f\"},\"hovermode\":\"closest\",\"hoverlabel\":{\"align\":\"left\"},\"paper_bgcolor\":\"white\",\"plot_bgcolor\":\"#E5ECF6\",\"polar\":{\"bgcolor\":\"#E5ECF6\",\"angularaxis\":{\"gridcolor\":\"white\",\"linecolor\":\"white\",\"ticks\":\"\"},\"radialaxis\":{\"gridcolor\":\"white\",\"linecolor\":\"white\",\"ticks\":\"\"}},\"ternary\":{\"bgcolor\":\"#E5ECF6\",\"aaxis\":{\"gridcolor\":\"white\",\"linecolor\":\"white\",\"ticks\":\"\"},\"baxis\":{\"gridcolor\":\"white\",\"linecolor\":\"white\",\"ticks\":\"\"},\"caxis\":{\"gridcolor\":\"white\",\"linecolor\":\"white\",\"ticks\":\"\"}},\"coloraxis\":{\"colorbar\":{\"outlinewidth\":0,\"ticks\":\"\"}},\"colorscale\":{\"sequential\":[[0.0,\"#0d0887\"],[0.1111111111111111,\"#46039f\"],[0.2222222222222222,\"#7201a8\"],[0.3333333333333333,\"#9c179e\"],[0.4444444444444444,\"#bd3786\"],[0.5555555555555556,\"#d8576b\"],[0.6666666666666666,\"#ed7953\"],[0.7777777777777778,\"#fb9f3a\"],[0.8888888888888888,\"#fdca26\"],[1.0,\"#f0f921\"]],\"sequentialminus\":[[0.0,\"#0d0887\"],[0.1111111111111111,\"#46039f\"],[0.2222222222222222,\"#7201a8\"],[0.3333333333333333,\"#9c179e\"],[0.4444444444444444,\"#bd3786\"],[0.5555555555555556,\"#d8576b\"],[0.6666666666666666,\"#ed7953\"],[0.7777777777777778,\"#fb9f3a\"],[0.8888888888888888,\"#fdca26\"],[1.0,\"#f0f921\"]],\"diverging\":[[0,\"#8e0152\"],[0.1,\"#c51b7d\"],[0.2,\"#de77ae\"],[0.3,\"#f1b6da\"],[0.4,\"#fde0ef\"],[0.5,\"#f7f7f7\"],[0.6,\"#e6f5d0\"],[0.7,\"#b8e186\"],[0.8,\"#7fbc41\"],[0.9,\"#4d9221\"],[1,\"#276419\"]]},\"xaxis\":{\"gridcolor\":\"white\",\"linecolor\":\"white\",\"ticks\":\"\",\"title\":{\"standoff\":15},\"zerolinecolor\":\"white\",\"automargin\":true,\"zerolinewidth\":2},\"yaxis\":{\"gridcolor\":\"white\",\"linecolor\":\"white\",\"ticks\":\"\",\"title\":{\"standoff\":15},\"zerolinecolor\":\"white\",\"automargin\":true,\"zerolinewidth\":2},\"scene\":{\"xaxis\":{\"backgroundcolor\":\"#E5ECF6\",\"gridcolor\":\"white\",\"linecolor\":\"white\",\"showbackground\":true,\"ticks\":\"\",\"zerolinecolor\":\"white\",\"gridwidth\":2},\"yaxis\":{\"backgroundcolor\":\"#E5ECF6\",\"gridcolor\":\"white\",\"linecolor\":\"white\",\"showbackground\":true,\"ticks\":\"\",\"zerolinecolor\":\"white\",\"gridwidth\":2},\"zaxis\":{\"backgroundcolor\":\"#E5ECF6\",\"gridcolor\":\"white\",\"linecolor\":\"white\",\"showbackground\":true,\"ticks\":\"\",\"zerolinecolor\":\"white\",\"gridwidth\":2}},\"shapedefaults\":{\"line\":{\"color\":\"#2a3f5f\"}},\"annotationdefaults\":{\"arrowcolor\":\"#2a3f5f\",\"arrowhead\":0,\"arrowwidth\":1},\"geo\":{\"bgcolor\":\"white\",\"landcolor\":\"#E5ECF6\",\"subunitcolor\":\"white\",\"showland\":true,\"showlakes\":true,\"lakecolor\":\"white\"},\"title\":{\"x\":0.05},\"mapbox\":{\"style\":\"light\"}}},\"geo\":{\"domain\":{\"x\":[0.0,1.0],\"y\":[0.0,1.0]},\"center\":{}},\"coloraxis\":{\"colorbar\":{\"title\":{\"text\":\"2022 Population\"}},\"colorscale\":[[0.0,\"#440154\"],[0.1111111111111111,\"#482878\"],[0.2222222222222222,\"#3e4989\"],[0.3333333333333333,\"#31688e\"],[0.4444444444444444,\"#26828e\"],[0.5555555555555556,\"#1f9e89\"],[0.6666666666666666,\"#35b779\"],[0.7777777777777778,\"#6ece58\"],[0.8888888888888888,\"#b5de2b\"],[1.0,\"#fde725\"]]},\"legend\":{\"tracegroupgap\":0},\"title\":{\"text\":\"Population Density by Country in 2022\"}},                        {\"responsive\": true}                    ).then(function(){\n",
       "                            \n",
       "var gd = document.getElementById('9aab5270-fa78-468e-9328-191ae2145d5d');\n",
       "var x = new MutationObserver(function (mutations, observer) {{\n",
       "        var display = window.getComputedStyle(gd).display;\n",
       "        if (!display || display === 'none') {{\n",
       "            console.log([gd, 'removed!']);\n",
       "            Plotly.purge(gd);\n",
       "            observer.disconnect();\n",
       "        }}\n",
       "}});\n",
       "\n",
       "// Listen for the removal of the full notebook cells\n",
       "var notebookContainer = gd.closest('#notebook-container');\n",
       "if (notebookContainer) {{\n",
       "    x.observe(notebookContainer, {childList: true});\n",
       "}}\n",
       "\n",
       "// Listen for the clearing of the current output cell\n",
       "var outputEl = gd.closest('.output');\n",
       "if (outputEl) {{\n",
       "    x.observe(outputEl, {childList: true});\n",
       "}}\n",
       "\n",
       "                        })                };                });            </script>        </div>"
      ]
     },
     "metadata": {},
     "output_type": "display_data"
    }
   ],
   "source": [
    "\n",
    "# Plotting population density map for 2022\n",
    "fig = px.choropleth(df, locations='Country', locationmode='country names', \n",
    "                    color='2022 Population', \n",
    "                    hover_name='Country', \n",
    "                    color_continuous_scale='Viridis', \n",
    "                    title='Population Density by Country in 2022')\n",
    "\n",
    "fig.update_layout(coloraxis_colorbar=dict(title='2022 Population'))\n",
    "fig.show()\n",
    "\n",
    "\n"
   ]
  },
  {
   "cell_type": "markdown",
   "id": "ede527d8-47d7-4c7c-9404-721c2ebae545",
   "metadata": {},
   "source": [
    "# Conclusion\r\n",
    "Our detailed analysis offers valuable insights into the patterns and trends in global population data. By understanding these patterns, policymakers and researchers can better strategize to address global demographic challenges and opportunities."
   ]
  }
 ],
 "metadata": {
  "kernelspec": {
   "display_name": "Python 3 (ipykernel)",
   "language": "python",
   "name": "python3"
  },
  "language_info": {
   "codemirror_mode": {
    "name": "ipython",
    "version": 3
   },
   "file_extension": ".py",
   "mimetype": "text/x-python",
   "name": "python",
   "nbconvert_exporter": "python",
   "pygments_lexer": "ipython3",
   "version": "3.11.7"
  }
 },
 "nbformat": 4,
 "nbformat_minor": 5
}
